{
 "cells": [
  {
   "cell_type": "code",
   "execution_count": 1,
   "metadata": {
    "colab": {},
    "colab_type": "code",
    "id": "7poYw5SoeB3-"
   },
   "outputs": [],
   "source": [
    "#41403\n",
    "#importing required libraries\n",
    "import pandas as pd\n",
    "import matplotlib.pyplot as plt\n",
    "import numpy as np"
   ]
  },
  {
   "cell_type": "code",
   "execution_count": 2,
   "metadata": {
    "colab": {},
    "colab_type": "code",
    "id": "MDQRQRxieB4J"
   },
   "outputs": [],
   "source": [
    "#loading data set into dataframe\n",
    "df = pd.read_csv(\"Restaurant_Reviews.tsv\",delimiter=\"\\t\",quoting=3)"
   ]
  },
  {
   "cell_type": "code",
   "execution_count": 3,
   "metadata": {
    "colab": {
     "base_uri": "https://localhost:8080/",
     "height": 34
    },
    "colab_type": "code",
    "id": "kf70T3aReB5C",
    "outputId": "7dcc48d9-b1dc-427b-926f-c20b815c005b"
   },
   "outputs": [
    {
     "data": {
      "text/html": [
       "<div>\n",
       "<style scoped>\n",
       "    .dataframe tbody tr th:only-of-type {\n",
       "        vertical-align: middle;\n",
       "    }\n",
       "\n",
       "    .dataframe tbody tr th {\n",
       "        vertical-align: top;\n",
       "    }\n",
       "\n",
       "    .dataframe thead th {\n",
       "        text-align: right;\n",
       "    }\n",
       "</style>\n",
       "<table border=\"1\" class=\"dataframe\">\n",
       "  <thead>\n",
       "    <tr style=\"text-align: right;\">\n",
       "      <th></th>\n",
       "      <th>Review</th>\n",
       "      <th>Liked</th>\n",
       "    </tr>\n",
       "  </thead>\n",
       "  <tbody>\n",
       "    <tr>\n",
       "      <th>0</th>\n",
       "      <td>Wow... Loved this place.</td>\n",
       "      <td>1</td>\n",
       "    </tr>\n",
       "    <tr>\n",
       "      <th>1</th>\n",
       "      <td>Crust is not good.</td>\n",
       "      <td>0</td>\n",
       "    </tr>\n",
       "    <tr>\n",
       "      <th>2</th>\n",
       "      <td>Not tasty and the texture was just nasty.</td>\n",
       "      <td>0</td>\n",
       "    </tr>\n",
       "    <tr>\n",
       "      <th>3</th>\n",
       "      <td>Stopped by during the late May bank holiday of...</td>\n",
       "      <td>1</td>\n",
       "    </tr>\n",
       "    <tr>\n",
       "      <th>4</th>\n",
       "      <td>The selection on the menu was great and so wer...</td>\n",
       "      <td>1</td>\n",
       "    </tr>\n",
       "    <tr>\n",
       "      <th>5</th>\n",
       "      <td>Now I am getting angry and I want my damn pho.</td>\n",
       "      <td>0</td>\n",
       "    </tr>\n",
       "    <tr>\n",
       "      <th>6</th>\n",
       "      <td>Honeslty it didn't taste THAT fresh.)</td>\n",
       "      <td>0</td>\n",
       "    </tr>\n",
       "    <tr>\n",
       "      <th>7</th>\n",
       "      <td>The potatoes were like rubber and you could te...</td>\n",
       "      <td>0</td>\n",
       "    </tr>\n",
       "    <tr>\n",
       "      <th>8</th>\n",
       "      <td>The fries were great too.</td>\n",
       "      <td>1</td>\n",
       "    </tr>\n",
       "    <tr>\n",
       "      <th>9</th>\n",
       "      <td>A great touch.</td>\n",
       "      <td>1</td>\n",
       "    </tr>\n",
       "  </tbody>\n",
       "</table>\n",
       "</div>"
      ],
      "text/plain": [
       "                                              Review  Liked\n",
       "0                           Wow... Loved this place.      1\n",
       "1                                 Crust is not good.      0\n",
       "2          Not tasty and the texture was just nasty.      0\n",
       "3  Stopped by during the late May bank holiday of...      1\n",
       "4  The selection on the menu was great and so wer...      1\n",
       "5     Now I am getting angry and I want my damn pho.      0\n",
       "6              Honeslty it didn't taste THAT fresh.)      0\n",
       "7  The potatoes were like rubber and you could te...      0\n",
       "8                          The fries were great too.      1\n",
       "9                                     A great touch.      1"
      ]
     },
     "execution_count": 3,
     "metadata": {},
     "output_type": "execute_result"
    }
   ],
   "source": [
    "#printing starting 10 tuples from dataset\n",
    "df.head(10)                              # 0 - negative response    1 - positive response"
   ]
  },
  {
   "cell_type": "code",
   "execution_count": 4,
   "metadata": {},
   "outputs": [
    {
     "name": "stdout",
     "output_type": "stream",
     "text": [
      "tuples of dataset:- 1000\n",
      "Count of response\n",
      "1    500\n",
      "0    500\n",
      "Name: Liked, dtype: int64\n"
     ]
    }
   ],
   "source": [
    "size = df.shape\n",
    "size = size[0]\n",
    "print(\"tuples of dataset:-\",size)\n",
    "print(\"Count of response\")\n",
    "count = df['Liked'].value_counts()\n",
    "print(count)"
   ]
  },
  {
   "cell_type": "code",
   "execution_count": 5,
   "metadata": {
    "colab": {
     "base_uri": "https://localhost:8080/",
     "height": 139
    },
    "colab_type": "code",
    "id": "Ex7mBkUAeB5M",
    "outputId": "58b5136e-4105-4b45-c08b-9031374263aa",
    "scrolled": false
   },
   "outputs": [
    {
     "name": "stderr",
     "output_type": "stream",
     "text": [
      "[nltk_data] Downloading package stopwords to /home/mint/nltk_data...\n",
      "[nltk_data]   Package stopwords is already up-to-date!\n"
     ]
    },
    {
     "name": "stdout",
     "output_type": "stream",
     "text": [
      "total stopwords:\t\t 179\n",
      "after removing 'not' word from stopword:\t 178\n",
      "All stopwords:-\n",
      " ['i', 'me', 'my', 'myself', 'we', 'our', 'ours', 'ourselves', 'you', \"you're\", \"you've\", \"you'll\", \"you'd\", 'your', 'yours', 'yourself', 'yourselves', 'he', 'him', 'his', 'himself', 'she', \"she's\", 'her', 'hers', 'herself', 'it', \"it's\", 'its', 'itself', 'they', 'them', 'their', 'theirs', 'themselves', 'what', 'which', 'who', 'whom', 'this', 'that', \"that'll\", 'these', 'those', 'am', 'is', 'are', 'was', 'were', 'be', 'been', 'being', 'have', 'has', 'had', 'having', 'do', 'does', 'did', 'doing', 'a', 'an', 'the', 'and', 'but', 'if', 'or', 'because', 'as', 'until', 'while', 'of', 'at', 'by', 'for', 'with', 'about', 'against', 'between', 'into', 'through', 'during', 'before', 'after', 'above', 'below', 'to', 'from', 'up', 'down', 'in', 'out', 'on', 'off', 'over', 'under', 'again', 'further', 'then', 'once', 'here', 'there', 'when', 'where', 'why', 'how', 'all', 'any', 'both', 'each', 'few', 'more', 'most', 'other', 'some', 'such', 'no', 'nor', 'only', 'own', 'same', 'so', 'than', 'too', 'very', 's', 't', 'can', 'will', 'just', 'don', \"don't\", 'should', \"should've\", 'now', 'd', 'll', 'm', 'o', 're', 've', 'y', 'ain', 'aren', \"aren't\", 'couldn', \"couldn't\", 'didn', \"didn't\", 'doesn', \"doesn't\", 'hadn', \"hadn't\", 'hasn', \"hasn't\", 'haven', \"haven't\", 'isn', \"isn't\", 'ma', 'mightn', \"mightn't\", 'mustn', \"mustn't\", 'needn', \"needn't\", 'shan', \"shan't\", 'shouldn', \"shouldn't\", 'wasn', \"wasn't\", 'weren', \"weren't\", 'won', \"won't\", 'wouldn', \"wouldn't\"]\n"
     ]
    }
   ],
   "source": [
    "import re\n",
    "import nltk\n",
    "nltk.download(\"stopwords\")\n",
    "from nltk.corpus import stopwords    #Stop wards include the ,a , etc\n",
    "from nltk.stem.porter import PorterStemmer #This reduces the word to stem\n",
    "corpus = [] #Clean list of words\n",
    "\n",
    "all_stopward = stopwords.words('english')\n",
    "print(\"total stopwords:\\t\\t\",len(all_stopward))\n",
    "all_stopward.remove('not')\n",
    "print(\"after removing 'not' word from stopword:\\t\",len(all_stopward))\n",
    "print(\"All stopwords:-\\n\",all_stopward)\n"
   ]
  },
  {
   "cell_type": "code",
   "execution_count": 6,
   "metadata": {},
   "outputs": [
    {
     "name": "stdout",
     "output_type": "stream",
     "text": [
      "1000\n",
      "['wow love place', 'crust not good', 'not tasti textur nasti', 'stop late may bank holiday rick steve recommend love', 'select menu great price', 'get angri want damn pho', 'honeslti tast fresh', 'potato like rubber could tell made ahead time kept warmer', 'fri great', 'great touch', 'servic prompt', 'would not go back', 'cashier care ever say still end wayyy overpr', 'tri cape cod ravoli chicken cranberri mmmm', 'disgust pretti sure human hair', 'shock sign indic cash', 'highli recommend', 'waitress littl slow servic', 'place not worth time let alon vega', 'not like', 'burritto blah', 'food amaz', 'servic also cute', 'could care less interior beauti', 'perform', 'right red velvet cake ohhh stuff good', 'never brought salad ask', 'hole wall great mexican street taco friendli staff', 'took hour get food tabl restaur food luke warm sever run around like total overwhelm', 'worst salmon sashimi', 'also combo like burger fri beer decent deal', 'like final blow', 'found place accid could not happier', 'seem like good quick place grab bite familiar pub food favor look elsewher', 'overal like place lot', 'redeem qualiti restaur inexpens', 'ampl portion good price', 'poor servic waiter made feel like stupid everi time came tabl', 'first visit hiro delight', 'servic suck', 'shrimp tender moist', 'not deal good enough would drag establish', 'hard judg whether side good gross melt styrofoam want eat fear get sick', 'posit note server attent provid great servic', 'frozen puck disgust worst peopl behind regist', 'thing like prime rib dessert section', 'bad food damn gener', 'burger good beef cook right', 'want sandwich go firehous', 'side greek salad greek dress tasti pita hummu refresh', 'order duck rare pink tender insid nice char outsid', 'came run us realiz husband left sunglass tabl', 'chow mein good', 'horribl attitud toward custom talk one custom enjoy food', 'portion huge', 'love friendli server great food wonder imagin menu', 'heart attack grill downtown vega absolut flat line excus restaur', 'not much seafood like string pasta bottom', 'salad right amount sauc not power scallop perfectli cook', 'rip banana not rip petrifi tasteless', 'least think refil water struggl wave minut', 'place receiv star appet', 'cocktail handmad delici', 'definit go back', 'glad found place', 'great food servic huge portion give militari discount', 'alway great time do gringo', 'updat went back second time still amaz', 'got food appar never heard salt batter fish chewi', 'great way finish great', 'deal includ tast drink jeff went beyond expect', 'realli realli good rice time', 'servic meh', 'took min get milkshak noth chocol milk', 'guess known place would suck insid excalibur use common sens', 'scallop dish quit appal valu well', 'time bad custom servic', 'sweet potato fri good season well', 'today second time lunch buffet pretti good', 'much good food vega feel cheat wast eat opportun go rice compani', 'come like experienc underwhelm relationship parti wait person ask break', 'walk place smell like old greas trap other eat', 'turkey roast beef bland', 'place', 'pan cake everyon rave tast like sugari disast tailor palat six year old', 'love pho spring roll oh yummi tri', 'poor batter meat ratio made chicken tender unsatisfi', 'say food amaz', 'omelet die', 'everyth fresh delici', 'summari larg disappoint dine experi', 'like realli sexi parti mouth outrag flirt hottest person parti', 'never hard rock casino never ever step forward', 'best breakfast buffet', 'say bye bye tip ladi', 'never go', 'back', 'food arriv quickli', 'not good', 'side cafe serv realli good food', 'server fantast found wife love roast garlic bone marrow ad extra meal anoth marrow go', 'good thing waiter help kept bloddi mari come', 'best buffet town price cannot beat', 'love mussel cook wine reduct duck tender potato dish delici', 'one better buffet', 'went tigerlilli fantast afternoon', 'food delici bartend attent person got great deal', 'ambienc wonder music play', 'go back next trip', 'sooooo good', 'real sushi lover let honest yama not good', 'least min pass us order food arriv busi', 'realli fantast thai restaur definit worth visit', 'nice spici tender', 'good price', 'check', 'pretti gross', 'better atmospher', 'kind hard mess steak', 'although much like look sound place actual experi bit disappoint', 'know place manag serv blandest food ever eaten prepar indian cuisin', 'worst servic boot least worri', 'servic fine waitress friendli', 'guy steak steak love son steak best worst place said best steak ever eaten', 'thought ventur away get good sushi place realli hit spot night', 'host staff lack better word bitch', 'bland not like place number reason want wast time bad review leav', 'phenomen food servic ambianc', 'return', 'definit worth ventur strip pork belli return next time vega', 'place way overpr mediocr food', 'penn vodka excel', 'good select food includ massiv meatloaf sandwich crispi chicken wrap delish tuna melt tasti burger', 'manag rude', 'delici nyc bagel good select cream chees real lox caper even', 'great subway fact good come everi subway not meet expect', 'serious solid breakfast', 'one best bar food vega', 'extrem rude realli mani restaur would love dine weekend vega', 'drink never empti made realli great menu suggest', '', 'waiter help friendli rare check us', 'husband ate lunch disappoint food servic', 'red curri much bamboo shoot tasti', 'nice blanket moz top feel like done cover subpar food', 'bathroom clean place well decor', 'menu alway chang food qualiti go servic extrem slow', 'servic littl slow consid serv peopl server food come slow pace', 'give thumb', 'watch waiter pay lot attent tabl ignor us', 'fianc came middl day greet seat right away', 'great restaur mandalay bay', 'wait forti five minut vain', 'crostini came salad stale', 'highlight great qualiti nigiri', 'staff friendli joint alway clean', 'differ cut piec day still wonder tender well well flavor', 'order voodoo pasta first time realli excel pasta sinc go gluten free sever year ago', 'place good', 'unfortun must hit bakeri leftov day everyth order stale', 'came back today sinc reloc still not impress', 'seat immedi', 'menu divers reason price', 'avoid cost', 'restaur alway full never wait', 'delici', 'place hand one best place eat phoenix metro area', 'go look good food', 'never treat bad', 'bacon hella salti', 'also order spinach avocado salad ingredi sad dress liter zero tast', 'realli vega fine dine use right menu hand ladi price list', 'waitress friendli', 'lordi khao soi dish not miss curri lover', 'everyth menu terrif also thrill made amaz accommod vegetarian daughter', 'perhap caught night judg review not inspir go back', 'servic leav lot desir', 'atmospher modern hip maintain touch cozi', 'not weekli haunt definit place come back everi', 'liter sat minut one ask take order', 'burger absolut flavor meat total bland burger overcook charcoal flavor', 'also decid not send back waitress look like verg heart attack', 'dress treat rude', 'probabl dirt', 'love place hit spot want someth healthi not lack quantiti flavor', 'order lemon raspberri ice cocktail also incred', 'food suck expect suck could imagin', 'interest decor', 'realli like crepe station', 'also serv hot bread butter home made potato chip bacon bit top origin good', 'watch prepar delici food', 'egg roll fantast', 'order arriv one gyro miss', 'salad wing ice cream dessert left feel quit satisfi', 'not realli sure joey vote best hot dog valley reader phoenix magazin', 'best place go tasti bowl pho', 'live music friday total blow', 'never insult felt disrespect', 'friendli staff', 'worth drive', 'heard good thing place exceed everi hope could dream', 'food great serivc', 'warm beer help', 'great brunch spot', 'servic friendli invit', 'good lunch spot', 'live sinc first last time step foot place', 'worst experi ever', 'must night place', 'side delish mix mushroom yukon gold pure white corn beateou', 'bug never show would given sure side wall bug climb kitchen', 'minut wait salad realiz come time soon', 'friend love salmon tartar', 'go back', 'extrem tasti', 'waitress good though', 'soggi not good', 'jamaican mojito delici', 'small not worth price', 'food rich order accordingli', 'shower area outsid rins not take full shower unless mind nude everyon see', 'servic bit lack', 'lobster bisqu bussel sprout risotto filet need salt pepper cours none tabl', 'hope bode go busi someon cook come', 'either cold not enough flavor bad', 'love bacon wrap date', 'unbeliev bargain', 'folk otto alway make us feel welcom special', 'main also uninspir', 'place first pho amaz', 'wonder experi made place must stop whenev town', 'food bad enough enjoy deal world worst annoy drunk peopl', 'fun chef', 'order doubl cheeseburg got singl patti fall apart pictur upload yeah still suck', 'great place coupl drink watch sport event wall cover tv', 'possibl give zero star', 'descript said yum yum sauc anoth said eel sauc yet anoth said spici mayo well none roll sauc', 'say would hardest decis honestli dish tast suppos tast amaz', 'not roll eye may stay not sure go back tri', 'everyon attent provid excel custom servic', 'horribl wast time money', 'dish quit flavour', 'time side restaur almost empti excus', 'busi either also build freez cold', 'like review said pay eat place', 'drink took close minut come one point', 'serious flavor delight folk', 'much better ayc sushi place went vega', 'light dark enough set mood', 'base sub par servic receiv effort show gratitud busi go back', 'owner realli great peopl', 'noth privileg work eat', 'greek dress creami flavor', 'overal think would take parent place made similar complaint silent felt', 'pizza good peanut sauc tasti', 'tabl servic pretti fast', 'fantast servic', 'well would given godfath zero star possibl', 'know make', 'tough short flavor', 'hope place stick around', 'bar vega not ever recal charg tap water', 'restaur atmospher exquisit', 'good servic clean inexpens boot', 'seafood fresh gener portion', 'plu buck', 'servic not par either', 'thu far visit twice food absolut delici time', 'good year ago', 'self proclaim coffe cafe wildli disappoint', 'veggitarian platter world', 'cant go wrong food', 'beat', 'stop place madison ironman friendli kind staff', 'chef friendli good job', 'better not dedic boba tea spot even jenni pho', 'like patio servic outstand', 'goat taco skimp meat wow flavor', 'think not', 'mac salad pretti bland not get', 'went bachi burger friend recommend not disappoint', 'servic stink', 'wait wait', 'place not qualiti sushi not qualiti restaur', 'would definit recommend wing well pizza', 'great pizza salad', 'thing went wrong burn saganaki', 'wait hour breakfast could done time better home', 'place amaz', 'hate disagre fellow yelper husband disappoint place', 'wait hour never got either pizza mani around us came later', 'know slow', 'staff great food delish incred beer select', 'live neighborhood disappoint back conveni locat', 'know pull pork could soooo delici', 'get incred fresh fish prepar care', 'go gave star rate pleas know third time eat bachi burger write review', 'love fact everyth menu worth', 'never dine place', 'food excel servic good', 'good beer drink select good food select', 'pleas stay away shrimp stir fri noodl', 'potato chip order sad could probabl count mani chip box probabl around', 'food realli bore', 'good servic check', 'greedi corpor never see anoth dime', 'never ever go back', 'much like go back get pass atroci servic never return', 'summer dine charm outdoor patio delight', 'not expect good', 'fantast food', 'order toast english muffin came untoast', 'food good', 'never go back', 'great food price high qualiti hous made', 'bu boy hand rude', 'point friend basic figur place joke mind make publicli loudli known', 'back good bbq lighter fare reason price tell public back old way', 'consid two us left full happi go wrong', 'bread made hous', 'downsid servic', 'also fri without doubt worst fri ever', 'servic except food good review', 'coupl month later return amaz meal', 'favorit place town shawarrrrrrma', 'black eye pea sweet potato unreal', 'disappoint', 'could serv vinaigrett may make better overal dish still good', 'go far mani place never seen restaur serv egg breakfast especi', 'mom got home immedi got sick bite salad', 'server not pleasant deal alway honor pizza hut coupon', 'truli unbeliev good glad went back', 'fantast servic pleas atmospher', 'everyth gross', 'love place', 'great servic food', 'first bathroom locat dirti seat cover not replenish plain yucki', 'burger got gold standard burger kind disappoint', 'omg food delicioso', 'noth authent place', 'spaghetti noth special whatsoev', 'dish salmon best great', 'veget fresh sauc feel like authent thai', 'worth drive tucson', 'select probabl worst seen vega none', 'pretti good beer select', 'place like chipotl better', 'classi warm atmospher fun fresh appet succul steak basebal steak', 'star brick oven bread app', 'eaten multipl time time food delici', 'sat anoth ten minut final gave left', 'terribl', 'everyon treat equal special', 'take min pancak egg', 'delici', 'good side staff genuin pleasant enthusiast real treat', 'sadli gordon ramsey steak place shall sharpli avoid next trip vega', 'alway even wonder food delici', 'best fish ever life', 'bathroom next door nice', 'buffet small food offer bland', 'outstand littl restaur best food ever tast', 'pretti cool would say', 'definit turn doubt back unless someon els buy', 'server great job handl larg rowdi tabl', 'find wast food despic food', 'wife lobster bisqu soup lukewarm', 'would come back sushi crave vega', 'staff great ambianc great', 'deserv star', 'left stomach ach felt sick rest day', 'drop ball', 'dine space tini elegantli decor comfort', 'custom order way like usual eggplant green bean stir fri love', 'bean rice mediocr best', 'best taco town far', 'took back money got outta', 'interest part town place amaz', 'rude inconsider manag', 'staff not friendli wait time serv horribl one even say hi first minut', 'back', 'great dinner', 'servic outshin definit recommend halibut', 'food terribl', 'never ever go back told mani peopl happen', 'recommend unless car break front starv', 'come back everi time vega', 'place deserv one star food', 'disgrac', 'def come back bowl next time', 'want healthi authent ethic food tri place', 'continu come ladi night andddd date night highli recommend place anyon area', 'sever time past experi alway great', 'walk away stuf happi first vega buffet experi', 'servic excel price pretti reason consid vega locat insid crystal shop mall aria', 'summar food incred nay transcend noth bring joy quit like memori pneumat condiment dispens', 'probabl one peopl ever go ian not like', 'kid pizza alway hit lot great side dish option kiddo', 'servic perfect famili atmospher nice see', 'cook perfect servic impecc', 'one simpli disappoint', 'overal disappoint qualiti food bouchon', 'account know get screw', 'great place eat remind littl mom pop shop san francisco bay area', 'today first tast buldogi gourmet hot dog tell ever thought possibl', 'left frustrat', 'definit soon', 'food realli good got full petti fast', 'servic fantast', 'total wast time', 'know kind best ice tea', 'come hungri leav happi stuf', 'servic give star', 'assur disappoint', 'take littl bad servic food suck', 'gave tri eat crust teeth still sore', 'complet gross', 'realli enjoy eat', 'first time go think quickli becom regular', 'server nice even though look littl overwhelm need stay profession friendli end', 'dinner companion told everyth fresh nice textur tast', 'ground right next tabl larg smear step track everywher pile green bird poop', 'furthermor even find hour oper websit', 'tri like place time think done', 'mistak', 'complaint', 'serious good pizza expert connisseur topic', 'waiter jerk', 'strike want rush', 'nicest restaur owner ever come across', 'never come', 'love biscuit', 'servic quick friendli', 'order appet took minut pizza anoth minut', 'absolutley fantast', 'huge awkward lb piec cow th gristl fat', 'definit come back', 'like steiner dark feel like bar', 'wow spici delici', 'not familiar check', 'take busi dinner dollar elsewher', 'love go back', 'anyway fs restaur wonder breakfast lunch', 'noth special', 'day week differ deal delici', 'not mention combin pear almond bacon big winner', 'not back', 'sauc tasteless', 'food delici spici enough sure ask spicier prefer way', 'ribey steak cook perfectli great mesquit flavor', 'think go back anytim soon', 'food gooodd', 'far sushi connoisseur definit tell differ good food bad food certainli bad food', 'insult', 'last time lunch bad', 'chicken wing contain driest chicken meat ever eaten', 'food good enjoy everi mouth enjoy relax venu coupl small famili group etc', 'nargil think great', 'best tater tot southwest', 'love place', 'definit not worth paid', 'vanilla ice cream creami smooth profiterol choux pastri fresh enough', 'im az time new spot', 'manag worst', 'insid realli quit nice clean', 'food outstand price reason', 'think run back carli anytim soon food', 'due fact took minut acknowledg anoth minut get food kept forget thing', 'love margarita', 'first vega buffet not disappoint', 'good though', 'one note ventil could use upgrad', 'great pork sandwich', 'wast time', 'total letdown would much rather go camelback flower shop cartel coffe', 'third chees friend burger cold', 'enjoy pizza brunch', 'steak well trim also perfectli cook', 'group claim would handl us beauti', 'love', 'ask bill leav without eat bring either', 'place jewel la vega exactli hope find nearli ten year live', 'seafood limit boil shrimp crab leg crab leg definit not tast fresh', 'select food not best', 'delici absolut back', 'small famili restaur fine dine establish', 'toro tartar cavier extraordinari like thinli slice wagyu white truffl', 'dont think back long time', 'attach ga station rare good sign', 'awesom', 'back mani time soon', 'menu much good stuff could not decid', 'wors humili worker right front bunch horribl name call', 'conclus fill meal', 'daili special alway hit group', 'tragedi struck', 'pancak also realli good pretti larg', 'first crawfish experi delici', 'monster chicken fri steak egg time favorit', 'waitress sweet funni', 'also tast mom multi grain pumpkin pancak pecan butter amaz fluffi delici', 'rather eat airlin food serious', 'cant say enough good thing place', 'ambianc incred', 'waitress manag friendli', 'would not recommend place', 'overal impress noca', 'gyro basic lettuc', 'terribl servic', 'thoroughli disappoint', 'much pasta love homemad hand made pasta thin pizza', 'give tri happi', 'far best cheesecurd ever', 'reason price also', 'everyth perfect night', 'food good typic bar food', 'drive get', 'first glanc love bakeri cafe nice ambianc clean friendli staff', 'anyway not think go back', 'point finger item menu order disappoint', 'oh thing beauti restaur', 'gone go', 'greasi unhealthi meal', 'first time might last', 'burger amaz', 'similarli deliveri man not say word apolog food minut late', 'way expens', 'sure order dessert even need pack go tiramisu cannoli die', 'first time wait next', 'bartend also nice', 'everyth good tasti', 'place two thumb way', 'best place vega breakfast check sat sun', 'love authent mexican food want whole bunch interest yet delici meat choos need tri place', 'terribl manag', 'excel new restaur experienc frenchman', 'zero star would give zero star', 'great steak great side great wine amaz dessert', 'worst martini ever', 'steak shrimp opinion best entre gc', 'opportun today sampl amaz pizza', 'wait thirti minut seat although vacant tabl folk wait', 'yellowtail carpaccio melt mouth fresh', 'tri go back even empti', 'go eat potato found stranger hair', 'spici enough perfect actual', 'last night second time dine happi decid go back', 'not even hello right', 'dessert bit strang', 'boyfriend came first time recent trip vega could not pleas qualiti food servic', 'realli recommend place go wrong donut place', 'nice ambianc', 'would recommend save room', 'guess mayb went night disgrac', 'howev recent experi particular locat not good', 'know not like restaur someth', 'avoid establish', 'think restaur suffer not tri hard enough', 'tapa dish delici', 'heart place', 'salad bland vinegrett babi green heart palm', 'two felt disgust', 'good time', 'believ place great stop huge belli hanker sushi', 'gener portion great tast', 'never go back place never ever recommend place anyon', 'server went back forth sever time not even much help', 'food delici', 'hour serious', 'consid theft', 'eew locat need complet overhaul', 'recent wit poor qualiti manag toward guest well', 'wait wait wait', 'also came back check us regularli excel servic', 'server super nice check us mani time', 'pizza tast old super chewi not good way', 'swung give tri deepli disappoint', 'servic good compani better', 'staff also friendli effici', 'servic fan quick serv nice folk', 'boy sucker dri', 'rate', 'look authent thai food go els', 'steak recommend', 'pull car wait anoth minut acknowledg', 'great food great servic clean friendli set', 'assur back', 'hate thing much cheap qualiti black oliv', 'breakfast perpar great beauti present giant slice toast lightli dust powder sugar', 'kid play area nasti', 'great place fo take eat', 'waitress friendli happi accomod vegan veggi option', 'omg felt like never eaten thai food dish', 'extrem crumbi pretti tasteless', 'pale color instead nice char flavor', 'crouton also tast homemad extra plu', 'got home see driest damn wing ever', 'regular stop trip phoenix', 'realli enjoy crema caf expand even told friend best breakfast', 'not good money', 'miss wish one philadelphia', 'got sit fairli fast end wait minut place order anoth minut food arriv', 'also best chees crisp town', 'good valu great food great servic', 'ask satisfi meal', 'food good', 'awesom', 'want leav', 'made drive way north scottsdal not one bit disappoint', 'not eat', 'owner realli realli need quit soooooo cheap let wrap freak sandwich two paper not one', 'check place coupl year ago not impress', 'chicken got definit reheat ok wedg cold soggi', 'sorri not get food anytim soon', 'absolut must visit', 'cow tongu cheek taco amaz', 'friend not like bloodi mari', 'despit hard rate busi actual rare give star', 'realli want make experi good one', 'not return', 'chicken pho tast bland', 'disappoint', 'grill chicken tender yellow saffron season', 'drive thru mean not want wait around half hour food somehow end go make us wait wait', 'pretti awesom place', 'ambienc perfect', 'best luck rude non custom servic focus new manag', 'grandmoth make roast chicken better one', 'ask multipl time wine list time ignor went hostess got one', 'staff alway super friendli help especi cool bring two small boy babi', 'four star food guy blue shirt great vibe still let us eat', 'roast beef sandwich tast realli good', 'even drastic sick', 'high qualiti chicken chicken caesar salad', 'order burger rare came done', 'promptli greet seat', 'tri go lunch madhous', 'proven dead wrong sushi bar not qualiti great servic fast food impecc', 'wait hour seat not greatest mood', 'good joint', 'macaron insan good', 'not eat', 'waiter attent friendli inform', 'mayb cold would somewhat edibl', 'place lot promis fail deliv', 'bad experi', 'mistak', 'food averag best', 'great food', 'go back anytim soon', 'disappoint order big bay plater', 'great place relax awesom burger beer', 'perfect sit famili meal get togeth friend', 'not much flavor poorli construct', 'patio seat comfort', 'fri rice dri well', 'hand favorit italian restaur', 'scream legit book somethat also pretti rare vega', 'not fun experi', 'atmospher great love duo violinist play song request', 'person love hummu pita baklava falafel baba ganoush amaz eggplant', 'conveni sinc stay mgm', 'owner super friendli staff courteou', 'great', 'eclect select', 'sweet potato tot good onion ring perfect close', 'staff attent', 'chef gener time even came around twice take pictur', 'owner use work nobu place realli similar half price', 'googl mediocr imagin smashburg pop', 'dont go', 'promis disappoint', 'sushi lover avoid place mean', 'great doubl cheeseburg', 'awesom servic food', 'fantast neighborhood gem', 'wait go back', 'plantain worst ever tast', 'great place highli recommend', 'servic slow not attent', 'gave star give star', 'staff spend time talk', 'dessert panna cotta amaz', 'good food great atmospher', 'damn good steak', 'total brunch fail', 'price reason flavor spot sauc home made slaw not drench mayo', 'decor nice piano music soundtrack pleasant', 'steak amaz rge fillet relleno best seafood plate ever', 'good food good servic', 'absolut amaz', 'probabl back honest', 'definit back', 'sergeant pepper beef sandwich auju sauc excel sandwich well', 'hawaiian breez mango magic pineappl delight smoothi tri far good', 'went lunch servic slow', 'much say place walk expect amaz quickli disappoint', 'mortifi', 'needless say never back', 'anyway food definit not fill price pay expect', 'chip came drip greas mostli not edibl', 'realli impress strip steak', 'go sinc everi meal awesom', 'server nice attent serv staff', 'cashier friendli even brought food', 'work hospit industri paradis valley refrain recommend cibo longer', 'atmospher fun', 'would not recommend other', 'servic quick even go order like like', 'mean realli get famou fish chip terribl', 'said mouth belli still quit pleas', 'not thing', 'thumb', 'read pleas go', 'love grill pizza remind legit italian pizza', 'pro larg seat area nice bar area great simpl drink menu best brick oven pizza homemad dough', 'realli nice atmospher', 'tonight elk filet special suck', 'one bite hook', 'order old classic new dish go time sore disappoint everyth', 'cute quaint simpl honest', 'chicken delici season perfect fri outsid moist chicken insid', 'food great alway compliment chef', 'special thank dylan recommend order yummi tummi', 'awesom select beer', 'great food awesom servic', 'one nice thing ad gratuiti bill sinc parti larger expect tip', 'fli appl juic fli', 'han nan chicken also tasti', 'servic thought good', 'food bare lukewarm must sit wait server bring us', 'ryan bar definit one edinburgh establish revisit', 'nicest chines restaur', 'overal like food servic', 'also serv indian naan bread hummu spici pine nut sauc world', 'probabl never come back recommend', 'friend pasta also bad bare touch', 'tri airport experi tasti food speedi friendli servic', 'love decor chines calligraphi wall paper', 'never anyth complain', 'restaur clean famili restaur feel', 'way fri', 'not sure long stood long enough begin feel awkwardli place', 'open sandwich impress not good way', 'not back', 'warm feel servic felt like guest special treat', 'extens menu provid lot option breakfast', 'alway order vegetarian menu dinner wide array option choos', 'watch price inflat portion get smaller manag attitud grow rapidli', 'wonder lil tapa ambienc made feel warm fuzzi insid', 'got enjoy seafood salad fabul vinegrett', 'wonton thin not thick chewi almost melt mouth', 'level spici perfect spice whelm soup', 'sat right time server get go fantast', 'main thing enjoy crowd older crowd around mid', 'side town definit spot hit', 'wait minut get drink longer get arepa', 'great place eat', 'jalapeno bacon soooo good', 'servic poor that nice', 'food good servic good price good', 'place not clean food oh stale', 'chicken dish ok beef like shoe leather', 'servic beyond bad', 'happi', 'tast like dirt', 'one place phoenix would defin go back', 'block amaz', 'close hous low key non fanci afford price good food', 'hot sour egg flower soup absolut star', 'sashimi poor qualiti soggi tasteless', 'great time famili dinner sunday night', 'food not tasti not say real tradit hunan style', 'bother slow servic', 'flair bartend absolut amaz', 'frozen margarita way sugari tast', 'good order twice', 'nutshel restaraunt smell like combin dirti fish market sewer', 'girlfriend veal bad', 'unfortun not good', 'pretti satifi experi', 'join club get awesom offer via email', 'perfect someon like beer ice cold case even colder', 'bland flavorless good way describ bare tepid meat', 'chain fan beat place easili', 'nacho must', 'not come back', 'mani word say place everyth pretti well', 'staff super nice quick even crazi crowd downtown juri lawyer court staff', 'great atmospher friendli fast servic', 'receiv pita huge lot meat thumb', 'food arriv meh', 'pay hot dog fri look like came kid meal wienerschnitzel not idea good meal', 'classic main lobster roll fantast', 'brother law work mall ate day guess sick night', 'good go review place twice herea tribut place tribut event held last night', 'chip salsa realli good salsa fresh', 'place great', 'mediocr food', 'get insid impress place', 'super pissd', 'servic super friendli', 'sad littl veget overcook', 'place nice surpris', 'golden crispi delici', 'high hope place sinc burger cook charcoal grill unfortun tast fell flat way flat', 'could eat bruschetta day devin', 'not singl employe came see ok even need water refil final serv us food', 'lastli mozzarella stick best thing order', 'first time ever came amaz experi still tell peopl awesom duck', 'server neglig need made us feel unwelcom would not suggest place', 'servic terribl though', 'place overpr not consist boba realli overpr', 'pack', 'love place', 'say dessert yummi', 'food terribl', 'season fruit fresh white peach pure', 'kept get wors wors offici done', 'place honestli blown', 'definit would not eat', 'not wast money', 'love put food nice plastic contain oppos cram littl paper takeout box', 'cr pe delic thin moist', 'aw servic', 'ever go', 'food qualiti horribl', 'price think place would much rather gone', 'servic fair best', 'love sushi found kabuki price hip servic', 'favor stay away dish', 'poor servic', 'one tabl thought food averag worth wait', 'best servic food ever maria server good friendli made day', 'excel', 'paid bill not tip felt server terribl job', 'lunch great experi', 'never bland food surpris consid articl read focus much spice flavor', 'food way overpr portion fuck small', 'recent tri caballero back everi week sinc', 'buck head realli expect better food', 'food came good pace', 'ate twice last visit especi enjoy salmon salad', 'back', 'could not believ dirti oyster', 'place deserv star', 'would not recommend place', 'fact go round star awesom', 'disbelief dish qualifi worst version food ever tast', 'bad day not low toler rude custom servic peopl job nice polit wash dish otherwis', 'potato great biscuit', 'probabl would not go', 'flavor perfect amount heat', 'price reason servic great', 'wife hate meal coconut shrimp friend realli not enjoy meal either', 'fella got huevo ranchero look appeal', 'went happi hour great list wine', 'may say buffet pricey think get pay place get quit lot', 'probabl come back', 'worst food servic', 'place pretti good nice littl vibe restaur', 'talk great custom servic cours back', 'hot dish not hot cold dish close room temp watch staff prepar food bare hand glove everyth deep fri oil', 'love fri bean', 'alway pleasur deal', 'plethora salad sandwich everyth tri get seal approv', 'place awesom want someth light healthi summer', 'sushi strip place go', 'servic great even manag came help tabl', 'feel dine room colleg cook cours high class dine servic slow best', 'start review two star edit give one', 'worst sushi ever eat besid costco', 'excel restaur highlight great servic uniqu menu beauti set', 'boyfriend sat bar complet delight experi', 'weird vibe owner', 'hardli meat', 'better bagel groceri store', 'go place gyro', 'love owner chef one authent japanes cool dude', 'burger good pizza use amaz doughi flavorless', 'found six inch long piec wire salsa', 'servic terribl food mediocr', 'defin enjoy', 'order albondiga soup warm tast like tomato soup frozen meatbal', 'three differ occas ask well done medium well three time got bloodiest piec meat plate', 'two bite refus eat anymor', 'servic extrem slow', 'minut wait got tabl', 'serious killer hot chai latt', 'allergi warn menu waitress absolut clue meal not contain peanut', 'boyfriend tri mediterranean chicken salad fell love', 'rotat beer tap also highlight place', 'price bit concern mellow mushroom', 'worst thai ever', 'stay vega must get breakfast least', 'want first say server great perfect servic', 'pizza select good', 'strawberri tea good', 'highli unprofession rude loyal patron', 'overal great experi', 'spend money elsewher', 'regular toast bread equal satisfi occasion pat butter mmmm', 'buffet bellagio far anticip', 'drink weak peopl', 'order not correct', 'also feel like chip bought not made hous', 'disappoint dinner went elsewher dessert', 'chip sal amaz', 'return', 'new fav vega buffet spot', 'serious cannot believ owner mani unexperienc employe run around like chicken head cut', 'sad', 'felt insult disrespect could talk judg anoth human like', 'call steakhous properli cook steak understand', 'not impress concept food', 'thing crazi guacamol like pur ed', 'realli noth postino hope experi better', 'got food poison buffet', 'brought fresh batch fri think yay someth warm', 'hilari yummi christma eve dinner rememb biggest fail entir trip us', 'needless say go back anytim soon', 'place disgust', 'everi time eat see care teamwork profession degre', 'ri style calamari joke', 'howev much garlic fondu bare edibl', 'could bare stomach meal complain busi lunch', 'bad lost heart finish', 'also took forev bring us check ask', 'one make scene restaur get definit lost love one', 'disappoint experi', 'food par denni say not good', 'want wait mediocr food downright terribl servic place', 'waaaaaayyyyyyyyyi rate say', 'go back', 'place fairli clean food simpli worth', 'place lack style', 'sangria half glass wine full ridicul', 'bother come', 'meat pretti dri slice brisket pull pork', 'build seem pretti neat bathroom pretti trippi eat', 'equal aw', 'probabl not hurri go back', 'slow seat even reserv', 'not good stretch imagin', 'cashew cream sauc bland veget undercook', 'chipolt ranch dip saus tasteless seem thin water heat', 'bit sweet not realli spici enough lack flavor', 'disappoint', 'place horribl way overpr', 'mayb vegetarian fare twice thought averag best', 'busi know', 'tabl outsid also dirti lot time worker not alway friendli help menu', 'ambianc not feel like buffet set douchey indoor garden tea biscuit', 'con spotti servic', 'fri not hot neither burger', 'came back cold', 'food came disappoint ensu', 'real disappoint waiter', 'husband said rude not even apolog bad food anyth', 'reason eat would fill night bing drink get carb stomach', 'insult profound deuchebaggeri go outsid smoke break serv solidifi', 'someon order two taco think may part custom servic ask combo ala cart', 'quit disappoint although blame need place door', 'rave review wait eat disappoint', 'del taco pretti nasti avoid possibl', 'not hard make decent hamburg', 'like', 'hell go back', 'gotten much better servic pizza place next door servic receiv restaur', 'know big deal place back ya', 'immedi said want talk manag not want talk guy shot firebal behind bar', 'ambianc much better', 'unfortun set us disapppoint entre', 'food good', 'server suck wait correct server heimer suck', 'happen next pretti put', 'bad caus know famili own realli want like place', 'overpr get', 'vomit bathroom mid lunch', 'kept look time soon becom minut yet still food', 'place eat circumst would ever return top list', 'start tuna sashimi brownish color obvious fresh', 'food averag', 'sure beat nacho movi would expect littl bit come restaur', 'ha long bay bit flop', 'problem charg sandwich bigger subway sub offer better amount veget', 'shrimp unwrap live mile brushfir liter ice cold', 'lack flavor seem undercook dri', 'realli impress place close', 'would avoid place stay mirag', 'refri bean came meal dri crusti food bland', 'spend money time place els', 'ladi tabl next us found live green caterpillar salad', 'present food aw', 'tell disappoint', 'think food flavor textur lack', 'appetit instantli gone', 'overal not impress would not go back', 'whole experi underwhelm think go ninja sushi next time', 'wast enough life pour salt wound draw time took bring check']\n"
     ]
    }
   ],
   "source": [
    "#In order to use textual data for predictive modeling,\n",
    "#the text must be parsed to remove stopwords\n",
    "#this process is called tokenization.\n",
    "for i in range(0,size):\n",
    "    review = re.sub('[^a-zA-Z]',' ',df[\"Review\"][i]) #Convert non character to spaces\n",
    "    review = review.lower()                          \n",
    "    words = review.split()\n",
    "    ps = PorterStemmer()\n",
    "    words = [ps.stem(word) for word in words if not word in set(all_stopward)]\n",
    "    words = ' '.join(words)\n",
    "    corpus.append(words)\n",
    "print(len(corpus))\n",
    "print(corpus)"
   ]
  },
  {
   "cell_type": "code",
   "execution_count": 7,
   "metadata": {
    "colab": {},
    "colab_type": "code",
    "id": "savCy_5seB5T"
   },
   "outputs": [
    {
     "name": "stdout",
     "output_type": "stream",
     "text": [
      "{'wow': 1484, 'love': 764, 'place': 986, 'crust': 308, 'not': 883, 'good': 565, 'tasti': 1306, 'textur': 1318, 'nasti': 861, 'stop': 1257, 'late': 724, 'may': 796, 'bank': 86, 'holiday': 633, 'rick': 1104, 'steve': 1250, 'recommend': 1071, 'select': 1156, 'menu': 813, 'great': 577, 'price': 1019, 'get': 549, 'angri': 30, 'want': 1436, 'damn': 316, 'pho': 974, 'honeslti': 636, 'tast': 1304, 'fresh': 525, 'potato': 1011, 'like': 747, 'rubber': 1117, 'could': 283, 'tell': 1311, 'made': 775, 'ahead': 13, 'time': 1340, 'kept': 708, 'warmer': 1438, 'fri': 526, 'touch': 1357, 'servic': 1165, 'prompt': 1031, 'would': 1483, 'go': 559, 'back': 78, 'cashier': 203, 'care': 195, 'ever': 434, 'say': 1142, 'still': 1252, 'end': 420, 'wayyy': 1446, 'overpr': 926, 'tri': 1366, 'cape': 191, 'cod': 247, 'ravoli': 1061, 'chicken': 226, 'cranberri': 295, 'mmmm': 833, 'disgust': 363, 'pretti': 1018, 'sure': 1290, 'human': 653, 'hair': 596, 'shock': 1172, 'sign': 1183, 'indic': 673, 'cash': 201, 'highli': 626, 'waitress': 1433, 'littl': 753, 'slow': 1196, 'worth': 1482, 'let': 739, 'alon': 21, 'vega': 1407, 'burritto': 173, 'blah': 126, 'food': 512, 'amaz': 25, 'also': 22, 'cute': 314, 'less': 738, 'interior': 687, 'beauti': 101, 'perform': 966, 'right': 1106, 'red': 1072, 'velvet': 1413, 'cake': 182, 'ohhh': 897, 'stuff': 1270, 'never': 869, 'brought': 159, 'salad': 1127, 'ask': 54, 'hole': 632, 'wall': 1435, 'mexican': 817, 'street': 1262, 'taco': 1296, 'friendli': 529, 'staff': 1239, 'took': 1351, 'hour': 648, 'tabl': 1295, 'restaur': 1094, 'luke': 770, 'warm': 1437, 'sever': 1167, 'run': 1119, 'around': 50, 'total': 1356, 'overwhelm': 927, 'worst': 1481, 'salmon': 1128, 'sashimi': 1135, 'combo': 254, 'burger': 171, 'beer': 104, 'decent': 323, 'deal': 322, 'final': 488, 'blow': 135, 'found': 519, 'accid': 2, 'happier': 606, 'seem': 1154, 'quick': 1049, 'grab': 570, 'bite': 124, 'familiar': 465, 'pub': 1036, 'favor': 475, 'look': 759, 'elsewher': 416, 'overal': 923, 'lot': 762, 'redeem': 1073, 'qualiti': 1047, 'inexpens': 676, 'ampl': 29, 'portion': 1007, 'poor': 1003, 'waiter': 1432, 'feel': 478, 'stupid': 1271, 'everi': 435, 'came': 186, 'first': 495, 'visit': 1424, 'hiro': 630, 'delight': 336, 'suck': 1277, 'shrimp': 1180, 'tender': 1314, 'moist': 835, 'enough': 423, 'drag': 382, 'establish': 429, 'hard': 607, 'judg': 704, 'whether': 1459, 'side': 1182, 'gross': 586, 'melt': 811, 'styrofoam': 1273, 'eat': 400, 'fear': 477, 'sick': 1181, 'posit': 1008, 'note': 884, 'server': 1164, 'attent': 61, 'provid': 1035, 'frozen': 531, 'puck': 1039, 'peopl': 962, 'behind': 106, 'regist': 1080, 'thing': 1326, 'prime': 1021, 'rib': 1100, 'dessert': 346, 'section': 1152, 'bad': 80, 'gener': 548, 'beef': 103, 'cook': 275, 'sandwich': 1133, 'firehous': 494, 'greek': 579, 'dress': 386, 'pita': 984, 'hummu': 655, 'refresh': 1077, 'order': 913, 'duck': 393, 'rare': 1055, 'pink': 982, 'insid': 681, 'nice': 872, 'char': 213, 'outsid': 920, 'us': 1399, 'realiz': 1065, 'husband': 659, 'left': 733, 'sunglass': 1287, 'chow': 233, 'mein': 809, 'horribl': 642, 'attitud': 62, 'toward': 1359, 'custom': 312, 'talk': 1300, 'one': 905, 'enjoy': 422, 'huge': 652, 'wonder': 1473, 'imagin': 665, 'heart': 616, 'attack': 60, 'grill': 582, 'downtown': 381, 'absolut': 0, 'flat': 499, 'line': 750, 'excus': 444, 'much': 848, 'seafood': 1147, 'string': 1265, 'pasta': 948, 'bottom': 145, 'amount': 28, 'sauc': 1139, 'power': 1014, 'scallop': 1143, 'perfectli': 965, 'rip': 1109, 'banana': 85, 'petrifi': 970, 'tasteless': 1305, 'least': 730, 'think': 1327, 'refil': 1075, 'water': 1443, 'struggl': 1268, 'wave': 1444, 'minut': 828, 'receiv': 1069, 'star': 1242, 'appet': 44, 'cocktail': 245, 'handmad': 602, 'delici': 335, 'definit': 331, 'glad': 554, 'give': 552, 'militari': 823, 'discount': 361, 'alway': 24, 'do': 367, 'gringo': 583, 'updat': 1396, 'went': 1456, 'second': 1151, 'got': 568, 'appar': 42, 'heard': 615, 'salt': 1130, 'batter': 95, 'fish': 496, 'chewi': 225, 'way': 1445, 'finish': 492, 'includ': 670, 'drink': 389, 'jeff': 695, 'beyond': 113, 'expect': 446, 'realli': 1066, 'rice': 1102, 'meh': 808, 'min': 826, 'milkshak': 825, 'noth': 885, 'chocol': 230, 'milk': 824, 'guess': 591, 'known': 716, 'excalibur': 440, 'use': 1400, 'common': 257, 'sens': 1159, 'dish': 364, 'quit': 1051, 'appal': 41, 'valu': 1404, 'well': 1455, 'sweet': 1293, 'season': 1149, 'today': 1344, 'lunch': 772, 'buffet': 166, 'cheat': 218, 'wast': 1441, 'opportun': 910, 'compani': 258, 'come': 255, 'experienc': 449, 'underwhelm': 1383, 'relationship': 1084, 'parti': 945, 'wait': 1431, 'person': 969, 'break': 152, 'walk': 1434, 'smell': 1201, 'old': 900, 'greas': 575, 'trap': 1364, 'other': 915, 'turkey': 1375, 'roast': 1111, 'bland': 128, 'pan': 937, 'everyon': 436, 'rave': 1060, 'sugari': 1281, 'disast': 359, 'tailor': 1297, 'palat': 934, 'six': 1192, 'year': 1491, 'spring': 1237, 'roll': 1113, 'oh': 896, 'yummi': 1498, 'meat': 801, 'ratio': 1059, 'unsatisfi': 1392, 'omelet': 903, 'die': 349, 'everyth': 437, 'summari': 1283, 'larg': 720, 'disappoint': 357, 'dine': 351, 'experi': 448, 'sexi': 1169, 'mouth': 844, 'outrag': 919, 'flirt': 504, 'hottest': 647, 'rock': 1112, 'casino': 204, 'step': 1249, 'forward': 518, 'best': 111, 'breakfast': 153, 'bye': 177, 'tip': 1341, 'ladi': 719, 'arriv': 52, 'quickli': 1050, 'cafe': 181, 'serv': 1163, 'fantast': 469, 'wife': 1464, 'garlic': 544, 'bone': 141, 'marrow': 793, 'ad': 9, 'extra': 453, 'meal': 799, 'anoth': 32, 'help': 623, 'bloddi': 132, 'mari': 790, 'town': 1360, 'cannot': 189, 'beat': 99, 'mussel': 854, 'wine': 1466, 'reduct': 1074, 'better': 112, 'tigerlilli': 1339, 'afternoon': 11, 'bartend': 90, 'ambienc': 27, 'music': 853, 'play': 993, 'next': 871, 'trip': 1369, 'sooooo': 1218, 'real': 1064, 'sushi': 1292, 'lover': 765, 'honest': 637, 'yama': 1488, 'pass': 947, 'busi': 174, 'thai': 1320, 'spici': 1231, 'check': 219, 'atmospher': 57, 'kind': 713, 'mess': 815, 'steak': 1246, 'although': 23, 'sound': 1222, 'actual': 8, 'bit': 122, 'know': 715, 'manag': 785, 'blandest': 129, 'eaten': 401, 'prepar': 1016, 'indian': 672, 'cuisin': 310, 'boot': 143, 'worri': 1479, 'fine': 490, 'guy': 593, 'son': 1214, 'said': 1125, 'thought': 1333, 'ventur': 1415, 'away': 69, 'hit': 631, 'spot': 1235, 'night': 874, 'host': 644, 'lack': 718, 'word': 1475, 'bitch': 123, 'number': 887, 'reason': 1067, 'review': 1096, 'leav': 732, 'phenomen': 972, 'ambianc': 26, 'return': 1095, 'strip': 1266, 'pork': 1006, 'belli': 109, 'mediocr': 804, 'penn': 961, 'vodka': 1425, 'excel': 442, 'massiv': 795, 'meatloaf': 803, 'crispi': 303, 'wrap': 1485, 'delish': 337, 'tuna': 1374, 'rude': 1118, 'nyc': 890, 'bagel': 81, 'cream': 298, 'chees': 221, 'lox': 767, 'caper': 192, 'even': 432, 'subway': 1276, 'fact': 458, 'meet': 807, 'serious': 1161, 'solid': 1207, 'bar': 87, 'extrem': 455, 'mani': 788, 'weekend': 1451, 'empti': 419, 'suggest': 1282, 'ate': 56, 'curri': 311, 'bamboo': 84, 'shoot': 1174, 'blanket': 130, 'moz': 846, 'top': 1352, 'done': 370, 'cover': 289, 'subpar': 1275, 'bathroom': 94, 'clean': 240, 'decor': 326, 'chang': 212, 'consid': 270, 'pace': 931, 'thumb': 1338, 'watch': 1442, 'pay': 954, 'ignor': 663, 'fianc': 483, 'middl': 820, 'day': 320, 'greet': 581, 'seat': 1150, 'mandalay': 786, 'bay': 96, 'forti': 517, 'five': 497, 'vain': 1402, 'crostini': 304, 'stale': 1240, 'highlight': 627, 'nigiri': 875, 'joint': 702, 'differ': 350, 'cut': 313, 'piec': 978, 'flavor': 500, 'voodoo': 1427, 'sinc': 1189, 'gluten': 558, 'free': 522, 'ago': 12, 'unfortun': 1385, 'must': 855, 'bakeri': 82, 'leftov': 734, 'reloc': 1087, 'impress': 668, 'immedi': 666, 'divers': 366, 'avoid': 67, 'cost': 280, 'full': 536, 'hand': 600, 'phoenix': 975, 'metro': 816, 'area': 48, 'treat': 1365, 'bacon': 79, 'hella': 621, 'salti': 1131, 'spinach': 1233, 'avocado': 66, 'ingredi': 679, 'sad': 1122, 'liter': 752, 'zero': 1499, 'list': 751, 'lordi': 760, 'khao': 710, 'soi': 1206, 'miss': 830, 'terrif': 1317, 'thrill': 1335, 'accommod': 3, 'vegetarian': 1410, 'daughter': 319, 'perhap': 967, 'caught': 206, 'inspir': 682, 'desir': 344, 'modern': 834, 'hip': 629, 'maintain': 781, 'cozi': 291, 'weekli': 1452, 'haunt': 611, 'sat': 1136, 'take': 1298, 'overcook': 924, 'charcoal': 214, 'decid': 324, 'send': 1158, 'verg': 1417, 'probabl': 1024, 'dirt': 354, 'someth': 1211, 'healthi': 614, 'quantiti': 1048, 'lemon': 737, 'raspberri': 1056, 'ice': 661, 'incred': 671, 'interest': 686, 'crepe': 301, 'station': 1244, 'hot': 646, 'bread': 151, 'butter': 176, 'home': 634, 'chip': 228, 'origin': 914, 'egg': 411, 'gyro': 594, 'wing': 1467, 'satisfi': 1138, 'joey': 700, 'vote': 1428, 'dog': 368, 'valley': 1403, 'reader': 1063, 'magazin': 778, 'bowl': 147, 'live': 754, 'friday': 527, 'insult': 685, 'felt': 482, 'disrespect': 365, 'drive': 391, 'exceed': 441, 'hope': 641, 'dream': 384, 'serivc': 1162, 'brunch': 161, 'invit': 688, 'last': 722, 'foot': 513, 'mix': 832, 'mushroom': 852, 'yukon': 1496, 'gold': 562, 'pure': 1043, 'white': 1460, 'corn': 277, 'beateou': 100, 'bug': 167, 'show': 1178, 'given': 553, 'climb': 241, 'kitchen': 714, 'soon': 1216, 'friend': 528, 'tartar': 1303, 'though': 1332, 'soggi': 1205, 'jamaican': 693, 'mojito': 836, 'small': 1197, 'rich': 1103, 'accordingli': 5, 'shower': 1179, 'rins': 1108, 'unless': 1389, 'mind': 827, 'nude': 886, 'see': 1153, 'lobster': 755, 'bisqu': 121, 'bussel': 175, 'sprout': 1238, 'risotto': 1110, 'filet': 485, 'need': 864, 'pepper': 963, 'cours': 286, 'none': 880, 'bode': 139, 'someon': 1210, 'either': 413, 'cold': 249, 'date': 318, 'unbeliev': 1380, 'bargain': 89, 'folk': 510, 'otto': 917, 'make': 782, 'welcom': 1454, 'special': 1227, 'main': 780, 'uninspir': 1387, 'whenev': 1458, 'world': 1478, 'annoy': 31, 'drunk': 392, 'fun': 537, 'chef': 224, 'doubl': 374, 'cheeseburg': 222, 'singl': 1190, 'patti': 953, 'fall': 463, 'apart': 39, 'pictur': 977, 'upload': 1398, 'yeah': 1490, 'coupl': 284, 'sport': 1234, 'event': 433, 'tv': 1376, 'possibl': 1009, 'descript': 342, 'yum': 1497, 'eel': 407, 'yet': 1494, 'mayo': 798, 'hardest': 608, 'decis': 325, 'honestli': 638, 'suppos': 1289, 'eye': 456, 'stay': 1245, 'money': 838, 'flavour': 502, 'almost': 20, 'build': 168, 'freez': 523, 'close': 242, 'point': 999, 'ayc': 73, 'light': 744, 'dark': 317, 'set': 1166, 'mood': 841, 'base': 91, 'sub': 1274, 'par': 941, 'effort': 410, 'gratitud': 573, 'owner': 929, 'privileg': 1022, 'work': 1476, 'creami': 299, 'parent': 943, 'similar': 1185, 'complaint': 261, 'silent': 1184, 'pizza': 985, 'peanut': 958, 'fast': 472, 'godfath': 561, 'tough': 1358, 'short': 1176, 'stick': 1251, 'recal': 1068, 'charg': 215, 'tap': 1301, 'exquisit': 451, 'plu': 998, 'buck': 165, 'thu': 1337, 'far': 470, 'twice': 1377, 'self': 1157, 'proclaim': 1026, 'coffe': 248, 'wildli': 1465, 'veggitarian': 1412, 'platter': 992, 'cant': 190, 'wrong': 1486, 'madison': 777, 'ironman': 689, 'job': 699, 'dedic': 327, 'boba': 138, 'tea': 1308, 'jenni': 696, 'patio': 951, 'outstand': 921, 'goat': 560, 'skimp': 1193, 'mac': 773, 'bachi': 77, 'stink': 1253, 'burn': 172, 'saganaki': 1124, 'hate': 610, 'disagre': 356, 'fellow': 481, 'later': 725, 'neighborhood': 867, 'conveni': 274, 'locat': 756, 'pull': 1040, 'soooo': 1217, 'gave': 545, 'rate': 1057, 'pleas': 994, 'third': 1329, 'stir': 1254, 'noodl': 881, 'box': 148, 'corpor': 278, 'atroci': 58, 'summer': 1284, 'charm': 216, 'outdoor': 918, 'toast': 1343, 'english': 421, 'muffin': 849, 'untoast': 1393, 'high': 625, 'hous': 649, 'bu': 164, 'boy': 149, 'basic': 92, 'figur': 484, 'joke': 703, 'publicli': 1038, 'loudli': 763, 'bbq': 97, 'lighter': 745, 'fare': 471, 'public': 1037, 'two': 1378, 'happi': 605, 'downsid': 380, 'without': 1472, 'doubt': 375, 'except': 443, 'month': 840, 'favorit': 476, 'shawarrrrrrma': 1170, 'black': 125, 'pea': 956, 'unreal': 1391, 'vinaigrett': 1421, 'seen': 1155, 'especi': 428, 'mom': 837, 'pleasant': 995, 'honor': 639, 'hut': 660, 'coupon': 285, 'truli': 1372, 'dirti': 355, 'replenish': 1090, 'plain': 987, 'yucki': 1495, 'standard': 1241, 'omg': 904, 'authent': 64, 'veget': 1409, 'brick': 155, 'oven': 922, 'multipl': 851, 'ten': 1313, 'terribl': 1316, 'equal': 427, 'pancak': 938, 'life': 743, 'door': 373, 'offer': 894, 'cool': 276, 'els': 415, 'handl': 601, 'find': 489, 'soup': 1224, 'lukewarm': 771, 'deserv': 343, 'stomach': 1255, 'comfort': 256, 'eggplant': 412, 'green': 580, 'bean': 98, 'part': 944, 'dinner': 352, 'told': 1346, 'happen': 604, 'car': 193, 'front': 530, 'disgrac': 362, 'anyon': 35, 'stuf': 1269, 'shop': 1175, 'mall': 783, 'bring': 156, 'kid': 711, 'option': 912, 'perfect': 964, 'famili': 464, 'impecc': 667, 'simpli': 1188, 'remind': 1089, 'pop': 1005, 'buldogi': 169, 'frustrat': 533, 'petti': 971, 'hungri': 657, 'assur': 55, 'teeth': 1310, 'sore': 1220, 'complet': 262, 'becom': 102, 'regular': 1081, 'profession': 1027, 'companion': 259, 'ground': 587, 'smear': 1200, 'track': 1361, 'everywher': 438, 'pile': 979, 'bird': 119, 'poop': 1002, 'furthermor': 539, 'oper': 908, 'websit': 1448, 'mistak': 831, 'expert': 450, 'connisseur': 268, 'topic': 1353, 'jerk': 697, 'strike': 1264, 'rush': 1120, 'nicest': 873, 'across': 7, 'biscuit': 120, 'absolutley': 1, 'awkward': 71, 'lb': 729, 'cow': 290, 'th': 1319, 'gristl': 584, 'fat': 473, 'steiner': 1248, 'dollar': 369, 'anyway': 38, 'fs': 534, 'week': 1450, 'mention': 812, 'combin': 253, 'pear': 959, 'almond': 19, 'big': 114, 'winner': 1468, 'spicier': 1232, 'prefer': 1015, 'ribey': 1101, 'mesquit': 814, 'anytim': 37, 'gooodd': 567, 'connoisseur': 269, 'certainli': 209, 'contain': 273, 'driest': 388, 'relax': 1085, 'venu': 1416, 'group': 588, 'etc': 430, 'nargil': 860, 'tater': 1307, 'tot': 1355, 'southwest': 1226, 'paid': 933, 'vanilla': 1405, 'smooth': 1203, 'profiterol': 1028, 'choux': 232, 'pastri': 949, 'im': 664, 'az': 74, 'new': 870, 'carli': 196, 'due': 395, 'acknowledg': 6, 'forget': 515, 'margarita': 789, 'ventil': 1414, 'upgrad': 1397, 'letdown': 740, 'rather': 1058, 'camelback': 187, 'flower': 506, 'cartel': 199, 'trim': 1368, 'claim': 237, 'bill': 117, 'jewel': 698, 'la': 717, 'exactli': 439, 'nearli': 862, 'limit': 749, 'boil': 140, 'crab': 293, 'leg': 735, 'toro': 1354, 'cavier': 208, 'extraordinari': 454, 'thinli': 1328, 'slice': 1195, 'wagyu': 1430, 'truffl': 1371, 'dont': 371, 'long': 757, 'attach': 59, 'ga': 541, 'awesom': 70, 'wors': 1480, 'humili': 654, 'worker': 1477, 'bunch': 170, 'name': 858, 'call': 184, 'conclus': 267, 'fill': 486, 'daili': 315, 'tragedi': 1363, 'struck': 1267, 'crawfish': 296, 'monster': 839, 'funni': 538, 'multi': 850, 'grain': 571, 'pumpkin': 1041, 'pecan': 960, 'fluffi': 507, 'airlin': 14, 'noca': 878, 'lettuc': 741, 'thoroughli': 1331, 'homemad': 635, 'thin': 1325, 'cheesecurd': 223, 'typic': 1379, 'glanc': 555, 'finger': 491, 'item': 691, 'gone': 564, 'greasi': 576, 'unhealthi': 1386, 'might': 821, 'similarli': 1186, 'deliveri': 339, 'man': 784, 'apolog': 40, 'expens': 447, 'pack': 932, 'tiramisu': 1342, 'cannoli': 188, 'sun': 1285, 'whole': 1461, 'choos': 231, 'frenchman': 524, 'martini': 794, 'opinion': 909, 'entre': 426, 'gc': 546, 'sampl': 1132, 'thirti': 1330, 'vacant': 1401, 'yellowtail': 1493, 'carpaccio': 197, 'stranger': 1260, 'hello': 622, 'strang': 1259, 'boyfriend': 150, 'recent': 1070, 'donut': 372, 'save': 1141, 'room': 1114, 'mayb': 797, 'howev': 650, 'particular': 946, 'suffer': 1279, 'tapa': 1302, 'vinegrett': 1422, 'babi': 76, 'palm': 936, 'believ': 107, 'hanker': 603, 'forth': 516, 'theft': 1323, 'eew': 408, 'overhaul': 925, 'wit': 1471, 'guest': 592, 'regularli': 1082, 'super': 1288, 'swung': 1294, 'deepli': 329, 'effici': 409, 'fan': 467, 'sucker': 1278, 'dri': 387, 'cheap': 217, 'oliv': 902, 'perpar': 968, 'present': 1017, 'giant': 550, 'lightli': 746, 'dust': 397, 'powder': 1013, 'sugar': 1280, 'fo': 508, 'accomod': 4, 'vegan': 1408, 'veggi': 1411, 'crumbi': 307, 'pale': 935, 'color': 252, 'instead': 684, 'crouton': 305, 'crema': 300, 'caf': 180, 'expand': 445, 'wish': 1470, 'philadelphia': 973, 'sit': 1191, 'fairli': 461, 'crisp': 302, 'north': 882, 'scottsdal': 1145, 'soooooo': 1219, 'freak': 521, 'paper': 940, 'reheat': 1083, 'ok': 899, 'wedg': 1449, 'sorri': 1221, 'tongu': 1349, 'cheek': 220, 'bloodi': 133, 'despit': 345, 'yellow': 1492, 'saffron': 1123, 'thru': 1336, 'mean': 800, 'half': 597, 'somehow': 1209, 'luck': 769, 'non': 879, 'focus': 509, 'grandmoth': 572, 'hostess': 645, 'four': 520, 'blue': 137, 'shirt': 1171, 'vibe': 1420, 'drastic': 383, 'caesar': 179, 'promptli': 1032, 'madhous': 776, 'proven': 1034, 'dead': 321, 'greatest': 578, 'macaron': 774, 'insan': 680, 'inform': 678, 'somewhat': 1213, 'edibl': 404, 'promis': 1030, 'fail': 459, 'deliv': 338, 'averag': 65, 'plater': 991, 'togeth': 1345, 'poorli': 1004, 'construct': 272, 'italian': 690, 'scream': 1146, 'legit': 736, 'book': 142, 'somethat': 1212, 'duo': 396, 'violinist': 1423, 'song': 1215, 'request': 1091, 'baklava': 83, 'falafel': 462, 'baba': 75, 'ganoush': 542, 'mgm': 818, 'courteou': 288, 'eclect': 402, 'onion': 906, 'ring': 1107, 'nobu': 877, 'googl': 566, 'smashburg': 1199, 'gem': 547, 'plantain': 988, 'spend': 1229, 'panna': 939, 'cotta': 282, 'slaw': 1194, 'drench': 385, 'piano': 976, 'soundtrack': 1223, 'rge': 1098, 'fillet': 487, 'relleno': 1086, 'plate': 990, 'sergeant': 1160, 'auju': 63, 'hawaiian': 612, 'breez': 154, 'mango': 787, 'magic': 779, 'pineappl': 981, 'smoothi': 1204, 'mortifi': 842, 'needless': 865, 'drip': 390, 'mostli': 843, 'hospit': 643, 'industri': 675, 'paradis': 942, 'refrain': 1076, 'cibo': 235, 'longer': 758, 'famou': 466, 'read': 1062, 'pro': 1023, 'simpl': 1187, 'dough': 377, 'tonight': 1350, 'elk': 414, 'hook': 640, 'classic': 239, 'quaint': 1045, 'compliment': 263, 'thank': 1321, 'dylan': 398, 'tummi': 1373, 'gratuiti': 574, 'larger': 721, 'fli': 503, 'appl': 46, 'juic': 705, 'han': 599, 'nan': 859, 'bare': 88, 'ryan': 1121, 'edinburgh': 405, 'revisit': 1097, 'chines': 227, 'naan': 856, 'pine': 980, 'nut': 888, 'airport': 15, 'speedi': 1228, 'calligraphi': 185, 'anyth': 36, 'complain': 260, 'stood': 1256, 'begin': 105, 'awkwardli': 72, 'open': 907, 'extens': 452, 'wide': 1462, 'array': 51, 'inflat': 677, 'smaller': 1198, 'grow': 589, 'rapidli': 1054, 'lil': 748, 'fuzzi': 540, 'fabul': 457, 'wonton': 1474, 'thick': 1324, 'level': 742, 'spice': 1230, 'whelm': 1457, 'crowd': 306, 'older': 901, 'mid': 819, 'arepa': 49, 'jalapeno': 692, 'that': 1322, 'shoe': 1173, 'leather': 731, 'defin': 330, 'block': 131, 'low': 766, 'key': 709, 'fanci': 468, 'afford': 10, 'sour': 1225, 'sunday': 1286, 'tradit': 1362, 'hunan': 656, 'style': 1272, 'bother': 144, 'flair': 498, 'nutshel': 889, 'restaraunt': 1093, 'market': 792, 'sewer': 1168, 'girlfriend': 551, 'veal': 1406, 'satifi': 1137, 'join': 701, 'club': 243, 'via': 1419, 'email': 417, 'case': 200, 'colder': 250, 'flavorless': 501, 'describ': 341, 'tepid': 1315, 'chain': 211, 'easili': 399, 'nacho': 857, 'crazi': 297, 'juri': 706, 'lawyer': 728, 'court': 287, 'wienerschnitzel': 1463, 'idea': 662, 'brother': 158, 'law': 727, 'herea': 624, 'tribut': 1367, 'held': 619, 'salsa': 1129, 'pissd': 983, 'surpris': 1291, 'golden': 563, 'fell': 479, 'bruschetta': 162, 'devin': 348, 'employe': 418, 'lastli': 723, 'mozzarella': 847, 'neglig': 866, 'unwelcom': 1394, 'consist': 271, 'fruit': 532, 'peach': 957, 'offici': 895, 'blown': 136, 'put': 1044, 'plastic': 989, 'oppos': 911, 'cram': 294, 'takeout': 1299, 'cr': 292, 'pe': 955, 'delic': 334, 'aw': 68, 'fair': 460, 'kabuki': 707, 'maria': 791, 'articl': 53, 'fuck': 535, 'caballero': 178, 'head': 613, 'oyster': 930, 'round': 1116, 'disbelief': 360, 'qualifi': 1046, 'version': 1418, 'toler': 1347, 'polit': 1001, 'wash': 1440, 'otherwis': 916, 'heat': 617, 'coconut': 246, 'fella': 480, 'huevo': 651, 'ranchero': 1053, 'appeal': 43, 'pricey': 1020, 'temp': 1312, 'glove': 557, 'deep': 328, 'oil': 898, 'pleasur': 996, 'plethora': 997, 'seal': 1148, 'approv': 47, 'colleg': 251, 'class': 238, 'start': 1243, 'edit': 406, 'besid': 110, 'costco': 281, 'uniqu': 1388, 'weird': 1453, 'hardli': 609, 'groceri': 585, 'store': 1258, 'japanes': 694, 'dude': 394, 'doughi': 378, 'inch': 669, 'wire': 1469, 'albondiga': 17, 'tomato': 1348, 'meatbal': 802, 'three': 1334, 'occas': 892, 'medium': 806, 'bloodiest': 134, 'refus': 1079, 'anymor': 34, 'killer': 712, 'chai': 210, 'latt': 726, 'allergi': 18, 'warn': 1439, 'clue': 244, 'mediterranean': 805, 'rotat': 1115, 'concern': 266, 'mellow': 810, 'strawberri': 1261, 'unprofession': 1390, 'loyal': 768, 'patron': 952, 'occasion': 893, 'pat': 950, 'bellagio': 108, 'anticip': 33, 'weak': 1447, 'correct': 279, 'bought': 146, 'sal': 1126, 'fav': 474, 'unexperienc': 1384, 'steakhous': 1247, 'properli': 1033, 'understand': 1382, 'concept': 265, 'guacamol': 590, 'pur': 1042, 'ed': 403, 'postino': 1010, 'poison': 1000, 'batch': 93, 'yay': 1489, 'hilari': 628, 'christma': 234, 'eve': 431, 'rememb': 1088, 'biggest': 116, 'entir': 425, 'teamwork': 1309, 'degre': 332, 'ri': 1099, 'calamari': 183, 'fondu': 511, 'lost': 761, 'forev': 514, 'scene': 1144, 'denni': 340, 'downright': 379, 'waaaaaayyyyyyyyyi': 1429, 'sangria': 1134, 'glass': 556, 'ridicul': 1105, 'brisket': 157, 'neat': 863, 'trippi': 1370, 'hurri': 658, 'reserv': 1092, 'stretch': 1263, 'cashew': 202, 'undercook': 1381, 'chipolt': 229, 'ranch': 1052, 'dip': 353, 'saus': 1140, 'douchey': 376, 'indoor': 674, 'garden': 543, 'con': 264, 'spotti': 1236, 'neither': 868, 'ensu': 424, 'bing': 118, 'carb': 194, 'profound': 1029, 'deuchebaggeri': 347, 'smoke': 1202, 'solidifi': 1208, 'ala': 16, 'cart': 198, 'blame': 127, 'del': 333, 'hamburg': 598, 'hell': 620, 'gotten': 569, 'ya': 1487, 'shot': 1177, 'firebal': 493, 'disapppoint': 358, 'heimer': 618, 'caus': 207, 'own': 928, 'vomit': 1426, 'circumst': 236, 'brownish': 160, 'obvious': 891, 'movi': 845, 'ha': 595, 'flop': 505, 'problem': 1025, 'bigger': 115, 'unwrap': 1395, 'mile': 822, 'brushfir': 163, 'mirag': 829, 'refri': 1078, 'crusti': 309, 'caterpillar': 205, 'appetit': 45, 'instantli': 683, 'ninja': 876, 'pour': 1012}\n",
      "(1000, 1500)\n",
      "[[0 0 0 ... 0 0 0]\n",
      " [0 0 0 ... 0 0 0]\n",
      " [0 0 0 ... 0 0 0]\n",
      " ...\n",
      " [0 0 0 ... 0 0 0]\n",
      " [0 0 0 ... 0 0 0]\n",
      " [0 0 0 ... 0 0 0]]\n"
     ]
    }
   ],
   "source": [
    "#These words need to then be encoded as integers, or floating-point values,\n",
    "#for use as inputs in machine learning algorithms.\n",
    "#This process is called feature extraction (or vectorization).\n",
    "from sklearn.feature_extraction.text import CountVectorizer\n",
    "vec = CountVectorizer(max_features=1500)\n",
    "vec.fit(corpus)\n",
    "print(vec.vocabulary_)\n",
    "vector = vec.transform(corpus)\n",
    "print(vector.shape)\n",
    "print(vector.toarray())"
   ]
  },
  {
   "cell_type": "code",
   "execution_count": 8,
   "metadata": {},
   "outputs": [],
   "source": [
    "cv = CountVectorizer(max_features=1500)\n",
    "X = cv.fit_transform(corpus).toarray()\n",
    "y = df.iloc[:,-1]"
   ]
  },
  {
   "cell_type": "code",
   "execution_count": 9,
   "metadata": {},
   "outputs": [
    {
     "name": "stdout",
     "output_type": "stream",
     "text": [
      "[[0 0 0 ... 0 0 0]\n",
      " [0 0 0 ... 0 0 0]\n",
      " [0 0 0 ... 0 0 0]\n",
      " ...\n",
      " [0 0 0 ... 0 0 0]\n",
      " [0 0 0 ... 0 0 0]\n",
      " [0 0 0 ... 0 0 0]]\n"
     ]
    }
   ],
   "source": [
    "print(X)"
   ]
  },
  {
   "cell_type": "code",
   "execution_count": 10,
   "metadata": {
    "colab": {
     "base_uri": "https://localhost:8080/",
     "height": 34
    },
    "colab_type": "code",
    "id": "Hzr8GaGeeB5Z",
    "outputId": "1b86d0af-79f5-4569-fc9c-6765ed91f74d"
   },
   "outputs": [
    {
     "name": "stdout",
     "output_type": "stream",
     "text": [
      "(1000, 1500)\n"
     ]
    }
   ],
   "source": [
    "print(X.shape)"
   ]
  },
  {
   "cell_type": "code",
   "execution_count": 16,
   "metadata": {
    "colab": {},
    "colab_type": "code",
    "id": "RAkqYN8AeB5g"
   },
   "outputs": [],
   "source": [
    "from sklearn.model_selection import train_test_split\n",
    "X_train,X_test,Y_train, Y_test = train_test_split(X,y,test_size = 0.2,random_state = 0)"
   ]
  },
  {
   "cell_type": "code",
   "execution_count": 17,
   "metadata": {},
   "outputs": [
    {
     "data": {
      "text/plain": [
       "MultinomialNB()"
      ]
     },
     "execution_count": 17,
     "metadata": {},
     "output_type": "execute_result"
    }
   ],
   "source": [
    "from sklearn.naive_bayes import MultinomialNB\n",
    "classifier3 = MultinomialNB()\n",
    "classifier3.fit(X_train,Y_train)"
   ]
  },
  {
   "cell_type": "code",
   "execution_count": 18,
   "metadata": {},
   "outputs": [],
   "source": [
    "y_pred2 = classifier3.predict(X_test)"
   ]
  },
  {
   "cell_type": "code",
   "execution_count": 20,
   "metadata": {},
   "outputs": [
    {
     "name": "stdout",
     "output_type": "stream",
     "text": [
      "0.78\n",
      "[[75 22]\n",
      " [22 81]]\n"
     ]
    }
   ],
   "source": [
    "from sklearn.metrics import accuracy_score,confusion_matrix\n",
    "\n",
    "print(accuracy_score(Y_test,y_pred2))\n",
    "print(confusion_matrix(Y_test,y_pred2))"
   ]
  },
  {
   "cell_type": "code",
   "execution_count": null,
   "metadata": {},
   "outputs": [],
   "source": []
  }
 ],
 "metadata": {
  "colab": {
   "collapsed_sections": [],
   "name": "41119_LP2_assignment4.ipynb",
   "provenance": []
  },
  "kernelspec": {
   "display_name": "Python 3",
   "language": "python",
   "name": "python3"
  },
  "language_info": {
   "codemirror_mode": {
    "name": "ipython",
    "version": 3
   },
   "file_extension": ".py",
   "mimetype": "text/x-python",
   "name": "python",
   "nbconvert_exporter": "python",
   "pygments_lexer": "ipython3",
   "version": "3.7.9"
  }
 },
 "nbformat": 4,
 "nbformat_minor": 1
}
