{
 "cells": [
  {
   "cell_type": "code",
   "execution_count": 1,
   "metadata": {},
   "outputs": [],
   "source": [
    "import numpy as np\n",
    "import pandas as pd\n",
    "%matplotlib inline\n",
    "\n",
    "from sklearn.preprocessing import LabelEncoder\n",
    "from sklearn.model_selection import train_test_split\n",
    "import matplotlib.pyplot as plt\n",
    "import seaborn as sns"
   ]
  },
  {
   "cell_type": "code",
   "execution_count": 3,
   "metadata": {},
   "outputs": [],
   "source": [
    "data=pd.read_csv('2010-capitalbikeshare-tripdata.csv')"
   ]
  },
  {
   "cell_type": "code",
   "execution_count": 4,
   "metadata": {},
   "outputs": [
    {
     "data": {
      "text/html": [
       "<div>\n",
       "<style scoped>\n",
       "    .dataframe tbody tr th:only-of-type {\n",
       "        vertical-align: middle;\n",
       "    }\n",
       "\n",
       "    .dataframe tbody tr th {\n",
       "        vertical-align: top;\n",
       "    }\n",
       "\n",
       "    .dataframe thead th {\n",
       "        text-align: right;\n",
       "    }\n",
       "</style>\n",
       "<table border=\"1\" class=\"dataframe\">\n",
       "  <thead>\n",
       "    <tr style=\"text-align: right;\">\n",
       "      <th></th>\n",
       "      <th>Duration</th>\n",
       "      <th>Start date</th>\n",
       "      <th>End date</th>\n",
       "      <th>Start station number</th>\n",
       "      <th>Start station</th>\n",
       "      <th>End station number</th>\n",
       "      <th>End station</th>\n",
       "      <th>Bike number</th>\n",
       "      <th>Member type</th>\n",
       "    </tr>\n",
       "  </thead>\n",
       "  <tbody>\n",
       "    <tr>\n",
       "      <th>0</th>\n",
       "      <td>1012</td>\n",
       "      <td>2010-09-20 11:27:04</td>\n",
       "      <td>2010-09-20 11:43:56</td>\n",
       "      <td>31208</td>\n",
       "      <td>M St &amp; New Jersey Ave SE</td>\n",
       "      <td>31108</td>\n",
       "      <td>4th &amp; M St SW</td>\n",
       "      <td>W00742</td>\n",
       "      <td>Member</td>\n",
       "    </tr>\n",
       "    <tr>\n",
       "      <th>1</th>\n",
       "      <td>61</td>\n",
       "      <td>2010-09-20 11:41:22</td>\n",
       "      <td>2010-09-20 11:42:23</td>\n",
       "      <td>31209</td>\n",
       "      <td>1st &amp; N St  SE</td>\n",
       "      <td>31209</td>\n",
       "      <td>1st &amp; N St  SE</td>\n",
       "      <td>W00032</td>\n",
       "      <td>Member</td>\n",
       "    </tr>\n",
       "    <tr>\n",
       "      <th>2</th>\n",
       "      <td>2690</td>\n",
       "      <td>2010-09-20 12:05:37</td>\n",
       "      <td>2010-09-20 12:50:27</td>\n",
       "      <td>31600</td>\n",
       "      <td>5th &amp; K St NW</td>\n",
       "      <td>31100</td>\n",
       "      <td>19th St &amp; Pennsylvania Ave NW</td>\n",
       "      <td>W00993</td>\n",
       "      <td>Member</td>\n",
       "    </tr>\n",
       "    <tr>\n",
       "      <th>3</th>\n",
       "      <td>1406</td>\n",
       "      <td>2010-09-20 12:06:05</td>\n",
       "      <td>2010-09-20 12:29:32</td>\n",
       "      <td>31600</td>\n",
       "      <td>5th &amp; K St NW</td>\n",
       "      <td>31602</td>\n",
       "      <td>Park Rd &amp; Holmead Pl NW</td>\n",
       "      <td>W00344</td>\n",
       "      <td>Member</td>\n",
       "    </tr>\n",
       "    <tr>\n",
       "      <th>4</th>\n",
       "      <td>1413</td>\n",
       "      <td>2010-09-20 12:10:43</td>\n",
       "      <td>2010-09-20 12:34:17</td>\n",
       "      <td>31100</td>\n",
       "      <td>19th St &amp; Pennsylvania Ave NW</td>\n",
       "      <td>31201</td>\n",
       "      <td>15th &amp; P St NW</td>\n",
       "      <td>W00883</td>\n",
       "      <td>Member</td>\n",
       "    </tr>\n",
       "    <tr>\n",
       "      <th>...</th>\n",
       "      <td>...</td>\n",
       "      <td>...</td>\n",
       "      <td>...</td>\n",
       "      <td>...</td>\n",
       "      <td>...</td>\n",
       "      <td>...</td>\n",
       "      <td>...</td>\n",
       "      <td>...</td>\n",
       "      <td>...</td>\n",
       "    </tr>\n",
       "    <tr>\n",
       "      <th>115592</th>\n",
       "      <td>2179</td>\n",
       "      <td>2010-12-31 23:20:32</td>\n",
       "      <td>2010-12-31 23:56:52</td>\n",
       "      <td>31110</td>\n",
       "      <td>20th St &amp; Florida Ave NW</td>\n",
       "      <td>31623</td>\n",
       "      <td>Columbus Circle / Union Station</td>\n",
       "      <td>W00859</td>\n",
       "      <td>Casual</td>\n",
       "    </tr>\n",
       "    <tr>\n",
       "      <th>115593</th>\n",
       "      <td>953</td>\n",
       "      <td>2010-12-31 23:21:57</td>\n",
       "      <td>2010-12-31 23:37:50</td>\n",
       "      <td>31106</td>\n",
       "      <td>Calvert &amp; Biltmore St NW</td>\n",
       "      <td>31401</td>\n",
       "      <td>14th St &amp; Spring Rd NW</td>\n",
       "      <td>W00914</td>\n",
       "      <td>Member</td>\n",
       "    </tr>\n",
       "    <tr>\n",
       "      <th>115594</th>\n",
       "      <td>737</td>\n",
       "      <td>2010-12-31 23:27:28</td>\n",
       "      <td>2010-12-31 23:39:45</td>\n",
       "      <td>31602</td>\n",
       "      <td>Park Rd &amp; Holmead Pl NW</td>\n",
       "      <td>31401</td>\n",
       "      <td>14th St &amp; Spring Rd NW</td>\n",
       "      <td>W00973</td>\n",
       "      <td>Member</td>\n",
       "    </tr>\n",
       "    <tr>\n",
       "      <th>115595</th>\n",
       "      <td>514</td>\n",
       "      <td>2010-12-31 23:37:38</td>\n",
       "      <td>2010-12-31 23:46:12</td>\n",
       "      <td>31111</td>\n",
       "      <td>10th &amp; U St NW</td>\n",
       "      <td>31202</td>\n",
       "      <td>14th &amp; R St NW</td>\n",
       "      <td>W01119</td>\n",
       "      <td>Member</td>\n",
       "    </tr>\n",
       "    <tr>\n",
       "      <th>115596</th>\n",
       "      <td>51962</td>\n",
       "      <td>2010-12-31 23:49:05</td>\n",
       "      <td>2011-01-01 14:15:08</td>\n",
       "      <td>31111</td>\n",
       "      <td>10th &amp; U St NW</td>\n",
       "      <td>31111</td>\n",
       "      <td>10th &amp; U St NW</td>\n",
       "      <td>W00771</td>\n",
       "      <td>Casual</td>\n",
       "    </tr>\n",
       "  </tbody>\n",
       "</table>\n",
       "<p>115597 rows × 9 columns</p>\n",
       "</div>"
      ],
      "text/plain": [
       "        Duration           Start date             End date  \\\n",
       "0           1012  2010-09-20 11:27:04  2010-09-20 11:43:56   \n",
       "1             61  2010-09-20 11:41:22  2010-09-20 11:42:23   \n",
       "2           2690  2010-09-20 12:05:37  2010-09-20 12:50:27   \n",
       "3           1406  2010-09-20 12:06:05  2010-09-20 12:29:32   \n",
       "4           1413  2010-09-20 12:10:43  2010-09-20 12:34:17   \n",
       "...          ...                  ...                  ...   \n",
       "115592      2179  2010-12-31 23:20:32  2010-12-31 23:56:52   \n",
       "115593       953  2010-12-31 23:21:57  2010-12-31 23:37:50   \n",
       "115594       737  2010-12-31 23:27:28  2010-12-31 23:39:45   \n",
       "115595       514  2010-12-31 23:37:38  2010-12-31 23:46:12   \n",
       "115596     51962  2010-12-31 23:49:05  2011-01-01 14:15:08   \n",
       "\n",
       "        Start station number                  Start station  \\\n",
       "0                      31208       M St & New Jersey Ave SE   \n",
       "1                      31209                 1st & N St  SE   \n",
       "2                      31600                  5th & K St NW   \n",
       "3                      31600                  5th & K St NW   \n",
       "4                      31100  19th St & Pennsylvania Ave NW   \n",
       "...                      ...                            ...   \n",
       "115592                 31110       20th St & Florida Ave NW   \n",
       "115593                 31106       Calvert & Biltmore St NW   \n",
       "115594                 31602        Park Rd & Holmead Pl NW   \n",
       "115595                 31111                 10th & U St NW   \n",
       "115596                 31111                 10th & U St NW   \n",
       "\n",
       "        End station number                      End station Bike number  \\\n",
       "0                    31108                    4th & M St SW      W00742   \n",
       "1                    31209                   1st & N St  SE      W00032   \n",
       "2                    31100    19th St & Pennsylvania Ave NW      W00993   \n",
       "3                    31602          Park Rd & Holmead Pl NW      W00344   \n",
       "4                    31201                   15th & P St NW      W00883   \n",
       "...                    ...                              ...         ...   \n",
       "115592               31623  Columbus Circle / Union Station      W00859   \n",
       "115593               31401           14th St & Spring Rd NW      W00914   \n",
       "115594               31401           14th St & Spring Rd NW      W00973   \n",
       "115595               31202                   14th & R St NW      W01119   \n",
       "115596               31111                   10th & U St NW      W00771   \n",
       "\n",
       "       Member type  \n",
       "0           Member  \n",
       "1           Member  \n",
       "2           Member  \n",
       "3           Member  \n",
       "4           Member  \n",
       "...            ...  \n",
       "115592      Casual  \n",
       "115593      Member  \n",
       "115594      Member  \n",
       "115595      Member  \n",
       "115596      Casual  \n",
       "\n",
       "[115597 rows x 9 columns]"
      ]
     },
     "execution_count": 4,
     "metadata": {},
     "output_type": "execute_result"
    }
   ],
   "source": [
    "data\n"
   ]
  },
  {
   "cell_type": "code",
   "execution_count": 5,
   "metadata": {},
   "outputs": [
    {
     "name": "stdout",
     "output_type": "stream",
     "text": [
      "<class 'pandas.core.frame.DataFrame'>\n",
      "RangeIndex: 115597 entries, 0 to 115596\n",
      "Data columns (total 9 columns):\n",
      " #   Column                Non-Null Count   Dtype \n",
      "---  ------                --------------   ----- \n",
      " 0   Duration              115597 non-null  int64 \n",
      " 1   Start date            115597 non-null  object\n",
      " 2   End date              115597 non-null  object\n",
      " 3   Start station number  115597 non-null  int64 \n",
      " 4   Start station         115597 non-null  object\n",
      " 5   End station number    115597 non-null  int64 \n",
      " 6   End station           115597 non-null  object\n",
      " 7   Bike number           115597 non-null  object\n",
      " 8   Member type           115597 non-null  object\n",
      "dtypes: int64(3), object(6)\n",
      "memory usage: 7.9+ MB\n"
     ]
    }
   ],
   "source": [
    "data.info() "
   ]
  },
  {
   "cell_type": "code",
   "execution_count": 6,
   "metadata": {},
   "outputs": [
    {
     "data": {
      "text/plain": [
       "Duration                 int64\n",
       "Start date              object\n",
       "End date                object\n",
       "Start station number     int64\n",
       "Start station           object\n",
       "End station number       int64\n",
       "End station             object\n",
       "Bike number             object\n",
       "Member type             object\n",
       "dtype: object"
      ]
     },
     "execution_count": 6,
     "metadata": {},
     "output_type": "execute_result"
    }
   ],
   "source": [
    "data.dtypes   ##### info about types"
   ]
  },
  {
   "cell_type": "code",
   "execution_count": 7,
   "metadata": {},
   "outputs": [
    {
     "data": {
      "text/html": [
       "<div>\n",
       "<style scoped>\n",
       "    .dataframe tbody tr th:only-of-type {\n",
       "        vertical-align: middle;\n",
       "    }\n",
       "\n",
       "    .dataframe tbody tr th {\n",
       "        vertical-align: top;\n",
       "    }\n",
       "\n",
       "    .dataframe thead th {\n",
       "        text-align: right;\n",
       "    }\n",
       "</style>\n",
       "<table border=\"1\" class=\"dataframe\">\n",
       "  <thead>\n",
       "    <tr style=\"text-align: right;\">\n",
       "      <th></th>\n",
       "      <th>Duration</th>\n",
       "      <th>Start station number</th>\n",
       "      <th>End station number</th>\n",
       "    </tr>\n",
       "  </thead>\n",
       "  <tbody>\n",
       "    <tr>\n",
       "      <th>count</th>\n",
       "      <td>115597.000000</td>\n",
       "      <td>115597.000000</td>\n",
       "      <td>115597.000000</td>\n",
       "    </tr>\n",
       "    <tr>\n",
       "      <th>mean</th>\n",
       "      <td>1254.649956</td>\n",
       "      <td>31266.213431</td>\n",
       "      <td>31268.042250</td>\n",
       "    </tr>\n",
       "    <tr>\n",
       "      <th>std</th>\n",
       "      <td>2914.317998</td>\n",
       "      <td>187.645048</td>\n",
       "      <td>186.194316</td>\n",
       "    </tr>\n",
       "    <tr>\n",
       "      <th>min</th>\n",
       "      <td>60.000000</td>\n",
       "      <td>31000.000000</td>\n",
       "      <td>31000.000000</td>\n",
       "    </tr>\n",
       "    <tr>\n",
       "      <th>25%</th>\n",
       "      <td>403.000000</td>\n",
       "      <td>31110.000000</td>\n",
       "      <td>31111.000000</td>\n",
       "    </tr>\n",
       "    <tr>\n",
       "      <th>50%</th>\n",
       "      <td>665.000000</td>\n",
       "      <td>31213.000000</td>\n",
       "      <td>31214.000000</td>\n",
       "    </tr>\n",
       "    <tr>\n",
       "      <th>75%</th>\n",
       "      <td>1120.000000</td>\n",
       "      <td>31301.000000</td>\n",
       "      <td>31238.000000</td>\n",
       "    </tr>\n",
       "    <tr>\n",
       "      <th>max</th>\n",
       "      <td>85644.000000</td>\n",
       "      <td>31805.000000</td>\n",
       "      <td>31805.000000</td>\n",
       "    </tr>\n",
       "  </tbody>\n",
       "</table>\n",
       "</div>"
      ],
      "text/plain": [
       "            Duration  Start station number  End station number\n",
       "count  115597.000000         115597.000000       115597.000000\n",
       "mean     1254.649956          31266.213431        31268.042250\n",
       "std      2914.317998            187.645048          186.194316\n",
       "min        60.000000          31000.000000        31000.000000\n",
       "25%       403.000000          31110.000000        31111.000000\n",
       "50%       665.000000          31213.000000        31214.000000\n",
       "75%      1120.000000          31301.000000        31238.000000\n",
       "max     85644.000000          31805.000000        31805.000000"
      ]
     },
     "execution_count": 7,
     "metadata": {},
     "output_type": "execute_result"
    }
   ],
   "source": [
    "data.describe()  #### statistics"
   ]
  },
  {
   "cell_type": "code",
   "execution_count": 8,
   "metadata": {},
   "outputs": [],
   "source": [
    "#Drop unnecessary columns\n",
    "data=data.drop('Start date',axis=1)\n",
    "data=data.drop('End date',axis=1)\n",
    "data=data.drop('Start station',axis=1)\n",
    "data=data.drop('End station',axis=1)"
   ]
  },
  {
   "cell_type": "code",
   "execution_count": 9,
   "metadata": {},
   "outputs": [
    {
     "data": {
      "text/html": [
       "<div>\n",
       "<style scoped>\n",
       "    .dataframe tbody tr th:only-of-type {\n",
       "        vertical-align: middle;\n",
       "    }\n",
       "\n",
       "    .dataframe tbody tr th {\n",
       "        vertical-align: top;\n",
       "    }\n",
       "\n",
       "    .dataframe thead th {\n",
       "        text-align: right;\n",
       "    }\n",
       "</style>\n",
       "<table border=\"1\" class=\"dataframe\">\n",
       "  <thead>\n",
       "    <tr style=\"text-align: right;\">\n",
       "      <th></th>\n",
       "      <th>Duration</th>\n",
       "      <th>Start station number</th>\n",
       "      <th>End station number</th>\n",
       "      <th>Bike number</th>\n",
       "      <th>Member type</th>\n",
       "    </tr>\n",
       "  </thead>\n",
       "  <tbody>\n",
       "    <tr>\n",
       "      <th>0</th>\n",
       "      <td>1012</td>\n",
       "      <td>31208</td>\n",
       "      <td>31108</td>\n",
       "      <td>W00742</td>\n",
       "      <td>Member</td>\n",
       "    </tr>\n",
       "    <tr>\n",
       "      <th>1</th>\n",
       "      <td>61</td>\n",
       "      <td>31209</td>\n",
       "      <td>31209</td>\n",
       "      <td>W00032</td>\n",
       "      <td>Member</td>\n",
       "    </tr>\n",
       "    <tr>\n",
       "      <th>2</th>\n",
       "      <td>2690</td>\n",
       "      <td>31600</td>\n",
       "      <td>31100</td>\n",
       "      <td>W00993</td>\n",
       "      <td>Member</td>\n",
       "    </tr>\n",
       "    <tr>\n",
       "      <th>3</th>\n",
       "      <td>1406</td>\n",
       "      <td>31600</td>\n",
       "      <td>31602</td>\n",
       "      <td>W00344</td>\n",
       "      <td>Member</td>\n",
       "    </tr>\n",
       "    <tr>\n",
       "      <th>4</th>\n",
       "      <td>1413</td>\n",
       "      <td>31100</td>\n",
       "      <td>31201</td>\n",
       "      <td>W00883</td>\n",
       "      <td>Member</td>\n",
       "    </tr>\n",
       "  </tbody>\n",
       "</table>\n",
       "</div>"
      ],
      "text/plain": [
       "   Duration  Start station number  End station number Bike number Member type\n",
       "0      1012                 31208               31108      W00742      Member\n",
       "1        61                 31209               31209      W00032      Member\n",
       "2      2690                 31600               31100      W00993      Member\n",
       "3      1406                 31600               31602      W00344      Member\n",
       "4      1413                 31100               31201      W00883      Member"
      ]
     },
     "execution_count": 9,
     "metadata": {},
     "output_type": "execute_result"
    }
   ],
   "source": [
    "data.head() "
   ]
  },
  {
   "cell_type": "code",
   "execution_count": 10,
   "metadata": {},
   "outputs": [],
   "source": [
    "########### label encoder :- Converts Data(Strings) into numbers for using it for calculations \n",
    "le = LabelEncoder()\n",
    "le.fit(data['Member type'])\n",
    "data['Member type'] = le.transform(data['Member type'])"
   ]
  },
  {
   "cell_type": "code",
   "execution_count": 11,
   "metadata": {},
   "outputs": [
    {
     "data": {
      "text/html": [
       "<div>\n",
       "<style scoped>\n",
       "    .dataframe tbody tr th:only-of-type {\n",
       "        vertical-align: middle;\n",
       "    }\n",
       "\n",
       "    .dataframe tbody tr th {\n",
       "        vertical-align: top;\n",
       "    }\n",
       "\n",
       "    .dataframe thead th {\n",
       "        text-align: right;\n",
       "    }\n",
       "</style>\n",
       "<table border=\"1\" class=\"dataframe\">\n",
       "  <thead>\n",
       "    <tr style=\"text-align: right;\">\n",
       "      <th></th>\n",
       "      <th>Duration</th>\n",
       "      <th>Start station number</th>\n",
       "      <th>End station number</th>\n",
       "      <th>Bike number</th>\n",
       "      <th>Member type</th>\n",
       "    </tr>\n",
       "  </thead>\n",
       "  <tbody>\n",
       "    <tr>\n",
       "      <th>0</th>\n",
       "      <td>1012</td>\n",
       "      <td>31208</td>\n",
       "      <td>31108</td>\n",
       "      <td>W00742</td>\n",
       "      <td>1</td>\n",
       "    </tr>\n",
       "    <tr>\n",
       "      <th>1</th>\n",
       "      <td>61</td>\n",
       "      <td>31209</td>\n",
       "      <td>31209</td>\n",
       "      <td>W00032</td>\n",
       "      <td>1</td>\n",
       "    </tr>\n",
       "    <tr>\n",
       "      <th>2</th>\n",
       "      <td>2690</td>\n",
       "      <td>31600</td>\n",
       "      <td>31100</td>\n",
       "      <td>W00993</td>\n",
       "      <td>1</td>\n",
       "    </tr>\n",
       "    <tr>\n",
       "      <th>3</th>\n",
       "      <td>1406</td>\n",
       "      <td>31600</td>\n",
       "      <td>31602</td>\n",
       "      <td>W00344</td>\n",
       "      <td>1</td>\n",
       "    </tr>\n",
       "    <tr>\n",
       "      <th>4</th>\n",
       "      <td>1413</td>\n",
       "      <td>31100</td>\n",
       "      <td>31201</td>\n",
       "      <td>W00883</td>\n",
       "      <td>1</td>\n",
       "    </tr>\n",
       "  </tbody>\n",
       "</table>\n",
       "</div>"
      ],
      "text/plain": [
       "   Duration  Start station number  End station number Bike number  Member type\n",
       "0      1012                 31208               31108      W00742            1\n",
       "1        61                 31209               31209      W00032            1\n",
       "2      2690                 31600               31100      W00993            1\n",
       "3      1406                 31600               31602      W00344            1\n",
       "4      1413                 31100               31201      W00883            1"
      ]
     },
     "execution_count": 11,
     "metadata": {},
     "output_type": "execute_result"
    }
   ],
   "source": [
    "data.head()"
   ]
  },
  {
   "cell_type": "code",
   "execution_count": 12,
   "metadata": {},
   "outputs": [],
   "source": [
    "le = LabelEncoder()\n",
    "le.fit(data['Bike number'])\n",
    "data['Bike number'] = le.transform(data['Bike number'])"
   ]
  },
  {
   "cell_type": "code",
   "execution_count": 13,
   "metadata": {},
   "outputs": [
    {
     "data": {
      "text/html": [
       "<div>\n",
       "<style scoped>\n",
       "    .dataframe tbody tr th:only-of-type {\n",
       "        vertical-align: middle;\n",
       "    }\n",
       "\n",
       "    .dataframe tbody tr th {\n",
       "        vertical-align: top;\n",
       "    }\n",
       "\n",
       "    .dataframe thead th {\n",
       "        text-align: right;\n",
       "    }\n",
       "</style>\n",
       "<table border=\"1\" class=\"dataframe\">\n",
       "  <thead>\n",
       "    <tr style=\"text-align: right;\">\n",
       "      <th></th>\n",
       "      <th>Duration</th>\n",
       "      <th>Start station number</th>\n",
       "      <th>End station number</th>\n",
       "      <th>Bike number</th>\n",
       "      <th>Member type</th>\n",
       "    </tr>\n",
       "  </thead>\n",
       "  <tbody>\n",
       "    <tr>\n",
       "      <th>0</th>\n",
       "      <td>1012</td>\n",
       "      <td>31208</td>\n",
       "      <td>31108</td>\n",
       "      <td>614</td>\n",
       "      <td>1</td>\n",
       "    </tr>\n",
       "    <tr>\n",
       "      <th>1</th>\n",
       "      <td>61</td>\n",
       "      <td>31209</td>\n",
       "      <td>31209</td>\n",
       "      <td>41</td>\n",
       "      <td>1</td>\n",
       "    </tr>\n",
       "    <tr>\n",
       "      <th>2</th>\n",
       "      <td>2690</td>\n",
       "      <td>31600</td>\n",
       "      <td>31100</td>\n",
       "      <td>836</td>\n",
       "      <td>1</td>\n",
       "    </tr>\n",
       "    <tr>\n",
       "      <th>3</th>\n",
       "      <td>1406</td>\n",
       "      <td>31600</td>\n",
       "      <td>31602</td>\n",
       "      <td>282</td>\n",
       "      <td>1</td>\n",
       "    </tr>\n",
       "    <tr>\n",
       "      <th>4</th>\n",
       "      <td>1413</td>\n",
       "      <td>31100</td>\n",
       "      <td>31201</td>\n",
       "      <td>734</td>\n",
       "      <td>1</td>\n",
       "    </tr>\n",
       "  </tbody>\n",
       "</table>\n",
       "</div>"
      ],
      "text/plain": [
       "   Duration  Start station number  End station number  Bike number  \\\n",
       "0      1012                 31208               31108          614   \n",
       "1        61                 31209               31209           41   \n",
       "2      2690                 31600               31100          836   \n",
       "3      1406                 31600               31602          282   \n",
       "4      1413                 31100               31201          734   \n",
       "\n",
       "   Member type  \n",
       "0            1  \n",
       "1            1  \n",
       "2            1  \n",
       "3            1  \n",
       "4            1  "
      ]
     },
     "execution_count": 13,
     "metadata": {},
     "output_type": "execute_result"
    }
   ],
   "source": [
    "data.head()"
   ]
  },
  {
   "cell_type": "code",
   "execution_count": 14,
   "metadata": {},
   "outputs": [
    {
     "data": {
      "text/plain": [
       "(115597, 5)"
      ]
     },
     "execution_count": 14,
     "metadata": {},
     "output_type": "execute_result"
    }
   ],
   "source": [
    "data.shape     ###### data.size"
   ]
  },
  {
   "cell_type": "code",
   "execution_count": 15,
   "metadata": {},
   "outputs": [],
   "source": [
    "#train=np.array(data.iloc[0:85000])   ### spitting into training and tetsign\n",
    "#test=np.array(data.iloc[85000:,])\n",
    "\n",
    "\n",
    "train,test=train_test_split(data,test_size=0.20,random_state=0)"
   ]
  },
  {
   "cell_type": "code",
   "execution_count": 16,
   "metadata": {},
   "outputs": [
    {
     "data": {
      "text/plain": [
       "((92477, 5), (23120, 5))"
      ]
     },
     "execution_count": 16,
     "metadata": {},
     "output_type": "execute_result"
    }
   ],
   "source": [
    "train.shape,test.shape       ########  train and test"
   ]
  },
  {
   "cell_type": "code",
   "execution_count": 17,
   "metadata": {},
   "outputs": [],
   "source": [
    "#separate labels from other features\n",
    "train_labels=train[\"Member type\"].copy();\n",
    "train=train.drop(\"Member type\", axis=1)\n",
    "\n",
    "test_labels=test[\"Member type\"].copy()\n",
    "test=test.drop(\"Member type\",axis=1)"
   ]
  },
  {
   "cell_type": "code",
   "execution_count": 18,
   "metadata": {},
   "outputs": [],
   "source": [
    "from sklearn.naive_bayes import GaussianNB   ##### guassinan\n",
    "model=GaussianNB()"
   ]
  },
  {
   "cell_type": "code",
   "execution_count": 19,
   "metadata": {},
   "outputs": [],
   "source": [
    "model.fit(train,train_labels)\n",
    "predicted=model.predict(test)\n"
   ]
  },
  {
   "cell_type": "code",
   "execution_count": 20,
   "metadata": {},
   "outputs": [
    {
     "data": {
      "text/plain": [
       "(23120,)"
      ]
     },
     "execution_count": 20,
     "metadata": {},
     "output_type": "execute_result"
    }
   ],
   "source": [
    "predicted.shape"
   ]
  },
  {
   "cell_type": "code",
   "execution_count": 21,
   "metadata": {},
   "outputs": [
    {
     "data": {
      "text/plain": [
       "array([1, 1, 1, ..., 1, 1, 1])"
      ]
     },
     "execution_count": 21,
     "metadata": {},
     "output_type": "execute_result"
    }
   ],
   "source": [
    "predicted"
   ]
  },
  {
   "cell_type": "code",
   "execution_count": 22,
   "metadata": {},
   "outputs": [],
   "source": [
    "count=0                 ### accuracy\n",
    "for l in range(len(predicted)):  \n",
    "    if(predicted[l]==test_labels.iloc[l]):\n",
    "        count=count+1\n",
    "\n"
   ]
  },
  {
   "cell_type": "code",
   "execution_count": 23,
   "metadata": {},
   "outputs": [
    {
     "data": {
      "text/plain": [
       "19338"
      ]
     },
     "execution_count": 23,
     "metadata": {},
     "output_type": "execute_result"
    }
   ],
   "source": [
    "count"
   ]
  },
  {
   "cell_type": "code",
   "execution_count": 24,
   "metadata": {},
   "outputs": [
    {
     "name": "stdout",
     "output_type": "stream",
     "text": [
      "0.8364186851211073\n"
     ]
    }
   ],
   "source": [
    "print(count/(len(predicted)))"
   ]
  },
  {
   "cell_type": "code",
   "execution_count": 25,
   "metadata": {},
   "outputs": [],
   "source": [
    "from sklearn import svm\n",
    "from sklearn import tree\n",
    "from sklearn.metrics import accuracy_score"
   ]
  },
  {
   "cell_type": "code",
   "execution_count": 26,
   "metadata": {},
   "outputs": [
    {
     "data": {
      "text/plain": [
       "0.7903979238754325"
      ]
     },
     "execution_count": 26,
     "metadata": {},
     "output_type": "execute_result"
    }
   ],
   "source": [
    "clas=tree.DecisionTreeClassifier();\n",
    "clas.fit(train,train_labels)\n",
    "pred=clas.predict(test)\n",
    "accu=accuracy_score(test_labels,pred)\n",
    "accu"
   ]
  },
  {
   "cell_type": "code",
   "execution_count": 27,
   "metadata": {},
   "outputs": [
    {
     "data": {
      "text/plain": [
       "<AxesSubplot:>"
      ]
     },
     "execution_count": 27,
     "metadata": {},
     "output_type": "execute_result"
    },
    {
     "data": {
      "image/png": "[encoded data removed]",
      "text/plain": [
       "<Figure size 432x288 with 2 Axes>"
      ]
     },
     "metadata": {
      "needs_background": "light"
     },
     "output_type": "display_data"
    }
   ],
   "source": [
    "corr=data.corr();\n",
    "sns.heatmap(corr,annot=True)"
   ]
  },
  {
   "cell_type": "code",
   "execution_count": null,
   "metadata": {},
   "outputs": [],
   "source": []
  }
 ],
 "metadata": {
  "kernelspec": {
   "display_name": "Python 3",
   "language": "python",
   "name": "python3"
  },
  "language_info": {
   "codemirror_mode": {
    "name": "ipython",
    "version": 3
   },
   "file_extension": ".py",
   "mimetype": "text/x-python",
   "name": "python",
   "nbconvert_exporter": "python",
   "pygments_lexer": "ipython3",
   "version": "3.7.9"
  }
 },
 "nbformat": 4,
 "nbformat_minor": 2
}
