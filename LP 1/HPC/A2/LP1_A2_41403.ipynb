{
  "nbformat": 4,
  "nbformat_minor": 0,
  "metadata": {
    "colab": {
      "name": "HPC_2",
      "provenance": [],
      "collapsed_sections": []
    },
    "kernelspec": {
      "name": "python3",
      "display_name": "Python 3"
    },
    "language_info": {
      "name": "python"
    },
    "accelerator": "GPU"
  },
  "cells": [
    {
      "cell_type": "code",
      "metadata": {
        "id": "ujzx-WOs8DDz"
      },
      "source": [
        "!apt-get --purge remove cuda nvidia* libnvidia-*\n",
        "!dpkg -l | grep cuda- | awk '{print $2}' | xargs -n1 dpkg --purge\n",
        "!apt-get remove cuda-*\n",
        "!apt autoremove\n",
        "!apt-get update"
      ],
      "execution_count": null,
      "outputs": []
    },
    {
      "cell_type": "code",
      "metadata": {
        "id": "TRJauh0o8ULZ"
      },
      "source": [
        "!wget https://developer.nvidia.com/compute/cuda/9.2/Prod/local_installers/cuda-repo-ubuntu1604-9-2-local_9.2.88-1_amd64 -O cuda-repo-ubuntu1604-9-2-local_9.2.88-1_amd64.deb\n",
        "!dpkg -i cuda-repo-ubuntu1604-9-2-local_9.2.88-1_amd64.deb\n",
        "!apt-key add /var/cuda-repo-9-2-local/7fa2af80.pub\n",
        "!apt-get update\n",
        "!apt-get install cuda-9.2"
      ],
      "execution_count": null,
      "outputs": []
    },
    {
      "cell_type": "code",
      "metadata": {
        "colab": {
          "base_uri": "https://localhost:8080/"
        },
        "id": "NsKVMVzvAtoU",
        "outputId": "14741b56-f2af-48e9-9122-9079e496db7e"
      },
      "source": [
        "!nvcc --version"
      ],
      "execution_count": 9,
      "outputs": [
        {
          "output_type": "stream",
          "name": "stdout",
          "text": [
            "nvcc: NVIDIA (R) Cuda compiler driver\n",
            "Copyright (c) 2005-2018 NVIDIA Corporation\n",
            "Built on Wed_Apr_11_23:16:29_CDT_2018\n",
            "Cuda compilation tools, release 9.2, V9.2.88\n"
          ]
        }
      ]
    },
    {
      "cell_type": "code",
      "metadata": {
        "colab": {
          "base_uri": "https://localhost:8080/"
        },
        "id": "35qNAjnaDqOD",
        "outputId": "98b8d14f-e33c-49e2-92ec-3b99da22b033"
      },
      "source": [
        "!pip install git+git://github.com/andreinechaev/nvcc4jupyter.git\n",
        "%load_ext nvcc_plugin"
      ],
      "execution_count": 4,
      "outputs": [
        {
          "output_type": "stream",
          "name": "stdout",
          "text": [
            "Collecting git+git://github.com/andreinechaev/nvcc4jupyter.git\n",
            "  Cloning git://github.com/andreinechaev/nvcc4jupyter.git to /tmp/pip-req-build-vmj954jp\n",
            "  Running command git clone -q git://github.com/andreinechaev/nvcc4jupyter.git /tmp/pip-req-build-vmj954jp\n",
            "Building wheels for collected packages: NVCCPlugin\n",
            "  Building wheel for NVCCPlugin (setup.py) ... \u001b[?25l\u001b[?25hdone\n",
            "  Created wheel for NVCCPlugin: filename=NVCCPlugin-0.0.2-py3-none-any.whl size=4305 sha256=99525973a3a55ed283b8bf77588f7db2bafded985f0b55b13a07778dce8be6b9\n",
            "  Stored in directory: /tmp/pip-ephem-wheel-cache-uceogx75/wheels/c5/2b/c0/87008e795a14bbcdfc7c846a00d06981916331eb980b6c8bdf\n",
            "Successfully built NVCCPlugin\n",
            "Installing collected packages: NVCCPlugin\n",
            "Successfully installed NVCCPlugin-0.0.2\n",
            "created output directory at /content/src\n",
            "Out bin /content/result.out\n"
          ]
        }
      ]
    },
    {
      "cell_type": "markdown",
      "metadata": {
        "id": "e1h9NocrG1Hb"
      },
      "source": [
        "## Matrix Vector Multiplication"
      ]
    },
    {
      "cell_type": "code",
      "metadata": {
        "colab": {
          "base_uri": "https://localhost:8080/"
        },
        "id": "8wz9IsYzE5wj",
        "outputId": "9ce1bea7-1665-4215-fe3a-ffc24eecef73"
      },
      "source": [
        "%%cu\n",
        "#include<iostream>\n",
        "\n",
        "using namespace std;\n",
        "\n",
        "__global__\n",
        "void matrixVector(int *vec, int *mat, int *result, int n, int m)\n",
        "{\n",
        "    int tid = blockIdx.x*blockDim.x + threadIdx.x;\n",
        "    int sum=0;\n",
        "    \n",
        "    if(tid <= n) {\n",
        "        for(int i=0; i<n; i++) {\n",
        "            sum += vec[i]*mat[(i*m) + tid];\n",
        "        }\n",
        "        result[tid] = sum;\n",
        "    }\n",
        "}\n",
        "\n",
        "void init_array(int *a, int n) {\n",
        "    for(int i=0; i<n; i++)\n",
        "      a[i] = rand()%n + 1;\n",
        "}\n",
        "\n",
        "void init_matrix(int *a, int n, int m) {\n",
        "    for(int i=0; i<n; i++) {\n",
        "        for(int j=0; j<m; j++) {\n",
        "            a[i*m + j] = rand()%n + 1;\n",
        "        }\n",
        "    }\n",
        "}\n",
        "\n",
        "void print_array(int *a, int n) {\n",
        "    for(int i=0; i<n; i++) {\n",
        "        cout<<\"  \"<<a[i];\n",
        "    }\n",
        "    cout<<endl;\n",
        "}\n",
        "\n",
        "void print_matrix(int *a, int n, int m) {\n",
        "    for(int i=0; i<n; i++) {\n",
        "        for(int j=0; j<m; j++)\n",
        "          cout<<\"  \"<<a[i*m + j];\n",
        "        cout<<endl;\n",
        "    }\n",
        "}\n",
        "\n",
        "int main() {\n",
        "    int *a, *b, *c;\n",
        "    int *a_dev, *b_dev, *c_dev;\n",
        "    \n",
        "    int n = 3;\n",
        "    int m = 4;\n",
        "    \n",
        "    a = new int[n];\n",
        "    b = new int[n*m];\n",
        "    c = new int[m];\n",
        "    \n",
        "    init_array(a, n);\n",
        "    init_matrix(b, n, m);\n",
        "        \n",
        "    cout<<\"Initial array : \"<<endl;\n",
        "    print_array(a, n);\n",
        "    cout<<\"Initial matrix : \"<<endl;\n",
        "    print_matrix(b, n, m);\n",
        "    cout<<\"Initial resultant array : \"<<endl;\n",
        "    print_array(c, m);\n",
        "    cout<<endl;\n",
        "    \n",
        "    cudaMalloc(&a_dev, sizeof(int)*n);\n",
        "    cudaMalloc(&b_dev, sizeof(int)*n*m);\n",
        "    cudaMalloc(&c_dev, sizeof(int)*m);\n",
        "    \n",
        "    cudaMemcpy(a_dev, a, sizeof(int)*n, cudaMemcpyHostToDevice);\n",
        "    cudaMemcpy(b_dev, b, sizeof(int)*n*m, cudaMemcpyHostToDevice);\n",
        "    \n",
        "    matrixVector<<<m/256+1, 256>>>(a_dev, b_dev, c_dev, n, m);\n",
        "    \n",
        "    cudaMemcpy(c, c_dev, sizeof(int)*m, cudaMemcpyDeviceToHost);\n",
        "    \n",
        "    cout<<\"Results : \"<<endl;\n",
        "    print_array(c, m);\n",
        "    \n",
        "    cudaFree(a_dev);\n",
        "    cudaFree(b_dev);\n",
        "    cudaFree(c_dev);\n",
        "    \n",
        "    delete[] a;\n",
        "    delete[] b;\n",
        "    delete[] c;\n",
        "    \n",
        "    return 0;\n",
        "}"
      ],
      "execution_count": 10,
      "outputs": [
        {
          "output_type": "stream",
          "name": "stdout",
          "text": [
            "Initial array : \n",
            "  2  2  1\n",
            "Initial matrix : \n",
            "  2  3  2  2\n",
            "  1  1  2  3\n",
            "  2  3  2  3\n",
            "Initial resultant array : \n",
            "  0  0  0  0\n",
            "\n",
            "Results : \n",
            "  8  11  10  13\n",
            "\n"
          ]
        }
      ]
    },
    {
      "cell_type": "code",
      "metadata": {
        "id": "kRNUvluOE8qz"
      },
      "source": [
        ""
      ],
      "execution_count": 10,
      "outputs": []
    },
    {
      "cell_type": "markdown",
      "metadata": {
        "id": "ngClWfQ1HHqT"
      },
      "source": [
        "## Matrix Matrix Multiplication"
      ]
    },
    {
      "cell_type": "code",
      "metadata": {
        "colab": {
          "base_uri": "https://localhost:8080/"
        },
        "id": "I6Ec1LSuHOab",
        "outputId": "58340060-5d92-4e85-aa94-aacad2959ea4"
      },
      "source": [
        "%%cu\n",
        "#include<iostream>\n",
        "using namespace std;\n",
        "__global__\n",
        "void matrixMultiplication(int *a, int *b, int *c, int m, int n, int k)\n",
        "{\n",
        "    int row = blockIdx.y*blockDim.y + threadIdx.y;\n",
        "    int col = blockIdx.x*blockDim.x + threadIdx.x;\n",
        "    int sum=0;\n",
        "    if(col<k && row<m) {\n",
        "      for(int j=0;j<n;j++)\n",
        "      {\n",
        "          sum += a[row*n+j] * b[j*k+col];\n",
        "      }\n",
        "      c[k*row+col]=sum;\n",
        "    }\n",
        "    \n",
        "}\n",
        "\n",
        "void init_result(int *a, int m, int k) {\n",
        "    for(int i=0; i<m; i++) {\n",
        "      for(int j=0; j<k; j++) {\n",
        "        a[i*k + j] = 0;\n",
        "      }\n",
        "    }\n",
        "}\n",
        "\n",
        "void init_matrix(int *a, int n, int m) {\n",
        "  srand((unsigned)time(0));\n",
        "    for(int i=0; i<n; i++) {\n",
        "      for(int j=0; j<m; j++) {\n",
        "        a[i*m + j] = rand()%10 + 1;\n",
        "      }\n",
        "    }\n",
        "}\n",
        "\n",
        "void print_matrix(int *a, int n, int m) {\n",
        "    for(int i=0; i<n; i++) {\n",
        "      for(int j=0; j<m; j++) {\n",
        "        cout<<\"  \"<<a[i*m + j];\n",
        "      }\n",
        "      cout<<endl;\n",
        "    }\n",
        "    cout<<endl;\n",
        "}\n",
        "\n",
        "int main()\n",
        "{\n",
        "    \n",
        "    int *a,*b,*c;\n",
        "    int *a_dev,*b_dev,*c_dev;\n",
        "    int m=5, n=4, k=3;\n",
        "    \n",
        "    a = new int[m*n];\n",
        "    b = new int[n*k];\n",
        "    c = new int[m*k];\n",
        "    \n",
        "    init_matrix(a, m, n);\n",
        "    init_matrix(b, n ,k);\n",
        "    init_result(c, m, k);\n",
        "    \n",
        "    cout<<\"Initial matrix : \"<<endl;\n",
        "    \n",
        "    print_matrix(a, m, n);\n",
        "    print_matrix(b, n, k);\n",
        "   // print_matrix(c, m, k);\n",
        "    \n",
        "    cudaMalloc(&a_dev, sizeof(int)*m*n);\n",
        "    cudaMalloc(&b_dev, sizeof(int)*n*k);\n",
        "    cudaMalloc(&c_dev, sizeof(int)*m*k);\n",
        "       \n",
        "    cudaMemcpy(a_dev, a, sizeof(int)*m*n, cudaMemcpyHostToDevice);\n",
        "    cudaMemcpy(b_dev, b, sizeof(int)*n*k, cudaMemcpyHostToDevice);\n",
        "    \n",
        "    dim3 dimGrid(1,1);\n",
        "    dim3 dimBlock(16,16);\n",
        "    \n",
        "    matrixMultiplication<<<dimGrid, dimBlock>>>(a_dev,b_dev,c_dev, m, n, k);\n",
        "     \n",
        "    cudaMemcpy(c, c_dev, sizeof(int)*m*k, cudaMemcpyDeviceToHost);\n",
        "    \n",
        "    cout<<\"Result : \"<<endl;\n",
        "    print_matrix(c, m, k);\n",
        "    \n",
        "    cudaFree(a_dev);\n",
        "    cudaFree(b_dev);\n",
        "    cudaFree(c_dev);\n",
        "    \n",
        "    delete[] a;\n",
        "    delete[] b;\n",
        "    delete[] c;\n",
        "    \n",
        "    return 0;\n",
        "}"
      ],
      "execution_count": 11,
      "outputs": [
        {
          "output_type": "stream",
          "name": "stdout",
          "text": [
            "Initial matrix : \n",
            "  9  2  2  7\n",
            "  6  3  9  5\n",
            "  4  9  2  10\n",
            "  7  10  6  4\n",
            "  1  1  7  4\n",
            "\n",
            "  9  2  2\n",
            "  7  6  3\n",
            "  9  5  4\n",
            "  9  2  10\n",
            "\n",
            "Result : \n",
            "  176  54  102\n",
            "  201  85  107\n",
            "  207  92  143\n",
            "  223  112  108\n",
            "  115  51  73\n",
            "\n",
            "\n"
          ]
        }
      ]
    },
    {
      "cell_type": "code",
      "metadata": {
        "id": "5p8LgAgUHRvP"
      },
      "source": [
        ""
      ],
      "execution_count": 11,
      "outputs": []
    },
    {
      "cell_type": "markdown",
      "metadata": {
        "id": "Ua7arDqfHULS"
      },
      "source": [
        "## Vector Addition"
      ]
    },
    {
      "cell_type": "code",
      "metadata": {
        "colab": {
          "base_uri": "https://localhost:8080/"
        },
        "id": "hDBWju5oHX8X",
        "outputId": "7c7d31e7-0b0a-47a1-c893-0ae8c1aa8d93"
      },
      "source": [
        "%%cu\n",
        "#include<iostream>\n",
        "#include<cstdlib>\n",
        "using namespace std;\n",
        "\n",
        "__global__ void vectorAdd(int *a, int *b, int *result, int n) {\n",
        "    int tid = blockIdx.x*blockDim.x + threadIdx.x;\n",
        "    if(tid <= n) {\n",
        "        result[tid] = a[tid] + b[tid];\n",
        "    }\n",
        "}\n",
        "\n",
        "void print_array(int *a, int N) {\n",
        "    for(int i=0; i<N; i++) {\n",
        "        cout<<\"  \"<<a[i];\n",
        "    }\n",
        "    cout<<endl;\n",
        "}\n",
        "\n",
        "void init_array(int *a, int N) {\n",
        "    for(int i=0; i<N; i++) {\n",
        "        a[i] = rand()%10 + 1;\n",
        "    }\n",
        "}\n",
        "\n",
        "int main() {\n",
        "    int *a, *b, *c;\n",
        "    int *a_dev, *b_dev, *c_dev;\n",
        "    int n = 8;           //24\n",
        "    \n",
        "    a = (int*)malloc(n * sizeof(n));\n",
        "    b = (int*)malloc(n * sizeof(n));\n",
        "    c = (int*)malloc(n * sizeof(n));\n",
        "\n",
        "    int size = n * sizeof(int);\n",
        "    \n",
        "    cudaMalloc(&a_dev, size);\n",
        "    cudaMalloc(&b_dev, size);\n",
        "    cudaMalloc(&c_dev, size);\n",
        "    \n",
        "    init_array(a, n);\n",
        "    init_array(b, n);\n",
        "    \n",
        "    print_array(a, n);\n",
        "    print_array(b, n);\n",
        "        \n",
        "    //cudaEvent_t start, end;\n",
        "    //cudaEventCreate(&start);\n",
        "    //cudaEventCreate(&end);\n",
        "    \n",
        "    cudaMemcpy(a_dev, a, size, cudaMemcpyHostToDevice);\n",
        "    cudaMemcpy(b_dev, b, size, cudaMemcpyHostToDevice);\n",
        "    \n",
        "    //int threads = 1024;\n",
        "    //int blocks = (n+threads-1)/threads;\n",
        "    \n",
        "    //cudaEventRecord(start);\n",
        "    \n",
        "    //vectorAdd<<<blocks,threads>>>(a_dev, b_dev, c_dev, n);\n",
        "    vectorAdd<<<1,1024>>>(a_dev, b_dev, c_dev, n);\n",
        "    \n",
        "    //cudaEventRecord(end);\n",
        "    \n",
        "    //cudaDeviceSynchronize();\n",
        "       \n",
        "    //float time = 0.0;\n",
        "    //cudaEventElapsedTime(&time, start, end);\n",
        "    \n",
        "    cudaMemcpy(c, c_dev, size, cudaMemcpyDeviceToHost);\n",
        "    \n",
        "    cout<<\"Results : \"<<endl;\n",
        "    print_array(c, n);\n",
        " \n",
        "    //cout<<\"Time elapsed : \"<<time<<endl;\n",
        "        \n",
        "    cudaFree(a_dev);\n",
        "    cudaFree(b_dev);\n",
        "    cudaFree(c_dev);\n",
        "        \n",
        "    return 0;\n",
        "}"
      ],
      "execution_count": 12,
      "outputs": [
        {
          "output_type": "stream",
          "name": "stdout",
          "text": [
            "  4  7  8  6  4  6  7  3\n",
            "  10  2  3  8  1  10  4  7\n",
            "Results : \n",
            "  14  9  11  14  5  16  11  10\n",
            "\n"
          ]
        }
      ]
    },
    {
      "cell_type": "code",
      "metadata": {
        "id": "Fim9i10iHat6"
      },
      "source": [
        ""
      ],
      "execution_count": null,
      "outputs": []
    }
  ]
}