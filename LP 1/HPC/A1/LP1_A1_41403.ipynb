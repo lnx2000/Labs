{
  "nbformat": 4,
  "nbformat_minor": 0,
  "metadata": {
    "colab": {
      "name": "HPC_1",
      "provenance": [],
      "collapsed_sections": []
    },
    "kernelspec": {
      "name": "python3",
      "display_name": "Python 3"
    },
    "language_info": {
      "name": "python"
    },
    "accelerator": "GPU"
  },
  "cells": [
    {
      "cell_type": "code",
      "metadata": {
        "id": "ujzx-WOs8DDz"
      },
      "source": [
        "!apt-get --purge remove cuda nvidia* libnvidia-*\n",
        "!dpkg -l | grep cuda- | awk '{print $2}' | xargs -n1 dpkg --purge\n",
        "!apt-get remove cuda-*\n",
        "!apt autoremove\n",
        "!apt-get update"
      ],
      "execution_count": null,
      "outputs": []
    },
    {
      "cell_type": "code",
      "metadata": {
        "id": "TRJauh0o8ULZ"
      },
      "source": [
        "!wget https://developer.nvidia.com/compute/cuda/9.2/Prod/local_installers/cuda-repo-ubuntu1604-9-2-local_9.2.88-1_amd64 -O cuda-repo-ubuntu1604-9-2-local_9.2.88-1_amd64.deb\n",
        "!dpkg -i cuda-repo-ubuntu1604-9-2-local_9.2.88-1_amd64.deb\n",
        "!apt-key add /var/cuda-repo-9-2-local/7fa2af80.pub\n",
        "!apt-get update\n",
        "!apt-get install cuda-9.2"
      ],
      "execution_count": null,
      "outputs": []
    },
    {
      "cell_type": "code",
      "metadata": {
        "colab": {
          "base_uri": "https://localhost:8080/"
        },
        "id": "NsKVMVzvAtoU",
        "outputId": "14741b56-f2af-48e9-9122-9079e496db7e"
      },
      "source": [
        "!nvcc --version"
      ],
      "execution_count": 9,
      "outputs": [
        {
          "output_type": "stream",
          "name": "stdout",
          "text": [
            "nvcc: NVIDIA (R) Cuda compiler driver\n",
            "Copyright (c) 2005-2018 NVIDIA Corporation\n",
            "Built on Wed_Apr_11_23:16:29_CDT_2018\n",
            "Cuda compilation tools, release 9.2, V9.2.88\n"
          ]
        }
      ]
    },
    {
      "cell_type": "code",
      "metadata": {
        "colab": {
          "base_uri": "https://localhost:8080/"
        },
        "id": "35qNAjnaDqOD",
        "outputId": "98b8d14f-e33c-49e2-92ec-3b99da22b033"
      },
      "source": [
        "!pip install git+git://github.com/andreinechaev/nvcc4jupyter.git\n",
        "%load_ext nvcc_plugin"
      ],
      "execution_count": 4,
      "outputs": [
        {
          "output_type": "stream",
          "name": "stdout",
          "text": [
            "Collecting git+git://github.com/andreinechaev/nvcc4jupyter.git\n",
            "  Cloning git://github.com/andreinechaev/nvcc4jupyter.git to /tmp/pip-req-build-vmj954jp\n",
            "  Running command git clone -q git://github.com/andreinechaev/nvcc4jupyter.git /tmp/pip-req-build-vmj954jp\n",
            "Building wheels for collected packages: NVCCPlugin\n",
            "  Building wheel for NVCCPlugin (setup.py) ... \u001b[?25l\u001b[?25hdone\n",
            "  Created wheel for NVCCPlugin: filename=NVCCPlugin-0.0.2-py3-none-any.whl size=4305 sha256=99525973a3a55ed283b8bf77588f7db2bafded985f0b55b13a07778dce8be6b9\n",
            "  Stored in directory: /tmp/pip-ephem-wheel-cache-uceogx75/wheels/c5/2b/c0/87008e795a14bbcdfc7c846a00d06981916331eb980b6c8bdf\n",
            "Successfully built NVCCPlugin\n",
            "Installing collected packages: NVCCPlugin\n",
            "Successfully installed NVCCPlugin-0.0.2\n",
            "created output directory at /content/src\n",
            "Out bin /content/result.out\n"
          ]
        }
      ]
    },
    {
      "cell_type": "code",
      "metadata": {
        "colab": {
          "base_uri": "https://localhost:8080/"
        },
        "id": "8wz9IsYzE5wj",
        "outputId": "6fe6ebbc-ab52-4de1-db32-360e52cb822d"
      },
      "source": [
        "%%cu\n",
        "#include<iostream>\n",
        "#include<math.h>\n",
        "\n",
        "#define n 8\n",
        "\n",
        "using namespace std;\n",
        "\n",
        "__global__ void minimum(int *input) {\n",
        "    int tid = threadIdx.x;\n",
        "    int step_size = 1;\n",
        "    int number_of_threads = blockDim.x;\n",
        "    \n",
        "    printf(\"No of threads = %d\", number_of_threads);\n",
        "    \n",
        "    while(number_of_threads>0) {\n",
        "        if(tid < number_of_threads) {\n",
        "            int first = tid*step_size*2;\n",
        "            int second = first + step_size;\n",
        "            if(input[second] < input[first])\n",
        "              input[first] = input[second];\n",
        "        }\n",
        "        step_size <<= 1;\n",
        "        number_of_threads >>= 1;\n",
        "    }\n",
        "}\n",
        "__global__ void maximum(int *input) {\n",
        "    int tid = threadIdx.x;\n",
        "    int step_size = 1;\n",
        "    int number_of_threads = blockDim.x;\n",
        "    \n",
        "    while(number_of_threads>0) {\n",
        "        if(tid < number_of_threads) {\n",
        "            int first = tid*step_size*2;\n",
        "            int second = first + step_size;\n",
        "            if(input[second] > input[first])\n",
        "              input[first] = input[second];\n",
        "        }\n",
        "        step_size <<= 1;\n",
        "        number_of_threads >>= 1;\n",
        "    }\n",
        "}\n",
        "\n",
        "__global__ void sum(int *input) {\n",
        "    const int tid = threadIdx.x;\n",
        "    int step_size = 1;\n",
        "    int number_of_threads = blockDim.x;\n",
        "    \n",
        "    while(number_of_threads > 0) {\n",
        "        if(tid < number_of_threads) {\n",
        "            int first = tid * step_size * 2;\n",
        "            int second = first + step_size;\n",
        "            \n",
        "            input[first] += input[second];\n",
        "        }\n",
        "        step_size <<= 1;\n",
        "        number_of_threads >>= 1;\n",
        "       \n",
        "    }\n",
        "}\n",
        "__global__ void mean_diff_sq(float *input, float mean) {\n",
        "    input[threadIdx.x] -= mean;\n",
        "    input[threadIdx.x] *= input[threadIdx.x];\n",
        "}\n",
        "\n",
        "__global__ void sum_floats(float *input) {\n",
        "    int tid = threadIdx.x;\n",
        "    int step_size = 1;\n",
        "    int number_of_threads = blockDim.x;\n",
        "    \n",
        "    while(number_of_threads > 0) {\n",
        "        if(tid < number_of_threads) {\n",
        "            int first = tid * step_size * 2;\n",
        "            int second = first + step_size;\n",
        "            \n",
        "            input[first] += input[second];\n",
        "        }\n",
        "        step_size <<= 1;\n",
        "        number_of_threads >>= 1;\n",
        "       \n",
        "    }\n",
        "}\n",
        "\n",
        "void copy_int_to_float(float *dest, int *src, int size){\n",
        "    for(int i=0; i<size; i++)\n",
        "        dest[i] = float(src[i]);\n",
        "}\n",
        "void random_ints(int *input, int size) {\n",
        "    for(int i=0; i<size; i++)  {\n",
        "        input[i] = rand()%100;\n",
        "        cout<<input[i]<<\"  \";   \n",
        "    }\n",
        "    cout<<endl;\n",
        "\n",
        "}\n",
        "\n",
        "int main() {\n",
        "    //int n=8;\n",
        "    int size = n*sizeof(int); //calculate no. of bytes for array\n",
        "        \n",
        "    int *arr;\n",
        "    int *arr_d, result;\n",
        "   \n",
        "    arr = (int *)malloc(size);\n",
        "    random_ints(arr, n);\n",
        "    \n",
        "    cudaMalloc((void **)&arr_d, size);\n",
        "    \n",
        "    //MIN\n",
        "    cudaMemcpy(arr_d, arr, size, cudaMemcpyHostToDevice);\n",
        "    \n",
        "    minimum<<<1,n/2>>>(arr_d);\n",
        "    \n",
        "    cudaMemcpy(&result, arr_d, sizeof(int), cudaMemcpyDeviceToHost);\n",
        "    \n",
        "    cout<<\"\\nThe minimum element is \"<<result<<endl;\n",
        "      \n",
        "       \n",
        "    //MAX\n",
        "    cudaMemcpy(arr_d, arr, size, cudaMemcpyHostToDevice);\n",
        "    \n",
        "    maximum<<<1,n/2>>>(arr_d);\n",
        "    \n",
        "    cudaMemcpy(&result, arr_d, sizeof(int), cudaMemcpyDeviceToHost);\n",
        "    \n",
        "    cout<<\"The maximum element is \"<<result<<endl;\n",
        "    \n",
        "    //SUM\n",
        "    cudaMemcpy(arr_d, arr, size, cudaMemcpyHostToDevice);\n",
        "    \n",
        "    sum<<<1,n/2>>>(arr_d);\n",
        "    \n",
        "    cudaMemcpy(&result, arr_d, sizeof(int), cudaMemcpyDeviceToHost);\n",
        "    cout<<\"The sum is \"<<result<<endl;\n",
        "    \n",
        "    //AVERAGE\n",
        "    \n",
        "    float mean = float(result)/n;\n",
        "    cout<<\"The mean is \"<<mean<<endl;\n",
        "    \n",
        "    //STANDARD DEVIATION\n",
        "    float *arr_float;\n",
        "    float *arr_std, stdValue;\n",
        "    \n",
        "    arr_float = (float *)malloc(n*sizeof(float));\n",
        "    cudaMalloc((void **)&arr_std, n*sizeof(float));\n",
        "    \n",
        "    copy_int_to_float(arr_float, arr, n);\n",
        "    \n",
        "    cudaMemcpy(arr_std, arr_float, n*sizeof(float), cudaMemcpyHostToDevice);\n",
        "    \n",
        "    mean_diff_sq <<<1,n>>>(arr_std, mean);\n",
        "    sum_floats<<<1,n/2>>>(arr_std);\n",
        "    \n",
        "    cudaMemcpy(&stdValue, arr_std, sizeof(float), cudaMemcpyDeviceToHost);\n",
        "    \n",
        "    \n",
        "    stdValue = stdValue / n;\n",
        "    cout<<\"The variance is \"<<stdValue<<endl;\n",
        "    stdValue = sqrt(stdValue);\n",
        "    \n",
        "    cout<<\"The standard deviation is \"<<stdValue<<endl;\n",
        "    \n",
        "    cudaFree(arr_d);\n",
        "           \n",
        "    return 0;\n",
        "}"
      ],
      "execution_count": 13,
      "outputs": [
        {
          "output_type": "stream",
          "name": "stdout",
          "text": [
            "83  86  77  15  93  35  86  92  \n",
            "No of threads = 4No of threads = 4No of threads = 4No of threads = 4\n",
            "The minimum element is 15\n",
            "The maximum element is 93\n",
            "The sum is 567\n",
            "The mean is 70.875\n",
            "The variance is 748.359\n",
            "The standard deviation is 27.3562\n",
            "\n"
          ]
        }
      ]
    },
    {
      "cell_type": "code",
      "metadata": {
        "id": "kRNUvluOE8qz"
      },
      "source": [
        ""
      ],
      "execution_count": 12,
      "outputs": []
    },
    {
      "cell_type": "code",
      "metadata": {
        "id": "hDBWju5oHX8X"
      },
      "source": [
        ""
      ],
      "execution_count": 12,
      "outputs": []
    },
    {
      "cell_type": "code",
      "metadata": {
        "id": "Fim9i10iHat6"
      },
      "source": [
        ""
      ],
      "execution_count": null,
      "outputs": []
    }
  ]
}