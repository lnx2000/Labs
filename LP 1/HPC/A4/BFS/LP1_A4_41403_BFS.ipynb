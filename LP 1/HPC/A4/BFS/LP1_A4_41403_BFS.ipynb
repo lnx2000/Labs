{
  "nbformat": 4,
  "nbformat_minor": 0,
  "metadata": {
    "colab": {
      "name": "HPC_4",
      "provenance": [],
      "collapsed_sections": []
    },
    "kernelspec": {
      "name": "python3",
      "display_name": "Python 3"
    },
    "language_info": {
      "name": "python"
    }
  },
  "cells": [
    {
      "cell_type": "code",
      "metadata": {
        "id": "A-L5QA-WBvtX"
      },
      "source": [
        "best_first_search = \"\"\"\n",
        "#include<bits/stdc++.h>\n",
        "#include<omp.h>\n",
        "\n",
        "using namespace std;\n",
        "int q[100];\n",
        "int visited[7];\n",
        "int local_q;\n",
        "\n",
        "void bfs(int adj_matrix[7][7], int first, int last, int q[], int n_nodes) {\n",
        "    if(first==last)\n",
        "      return;\n",
        "    \n",
        "    int cur_node = q[first++];\n",
        "    cout<<\"  \"<<cur_node;\n",
        "    \n",
        "    omp_set_num_threads(3);\n",
        "    \n",
        "    #pragma omp parallel for shared(visited)\n",
        "    for(int i=0; i<n_nodes; i++) {\n",
        "        if(adj_matrix[cur_node][i] == 1 && visited[i] == 0){\n",
        "            q[last++] = i;\n",
        "            visited[i] = 1;\n",
        "        }\n",
        "    }\n",
        "    \n",
        "    bfs(adj_matrix, first, last, q, n_nodes);\n",
        "}\n",
        "\n",
        "int main() {\n",
        "    int first = -1;\n",
        "    int last = 0;\n",
        "    int n_nodes = 7;\n",
        "    \n",
        "    for(int i=0; i<n_nodes; i++) {\n",
        "        visited[i] = 0;\n",
        "    }\n",
        "    \n",
        "    int adj_matrix[7][7] = {\n",
        "      {0, 1, 1, 0, 0, 0, 0},\n",
        "      {1, 0, 1, 1, 0, 0, 0},\n",
        "      {1, 1, 0, 0, 1, 0, 0},\n",
        "      {0, 1, 0, 0, 1, 0, 0},\n",
        "      {0, 0, 1, 1, 0, 1, 0},\n",
        "      {0, 0, 0, 0, 1, 0, 1},\n",
        "      {0, 0, 0, 0, 0, 1, 0}\n",
        "    };\n",
        "    \n",
        "    int start_node = 3;\n",
        "    q[last++] = start_node;\n",
        "    first++;\n",
        "    visited[start_node] = 1;\n",
        " \n",
        "    bfs(adj_matrix, first, last, q, n_nodes);\n",
        "    \n",
        "    return 0;\n",
        "}\n",
        "\"\"\""
      ],
      "execution_count": 8,
      "outputs": []
    },
    {
      "cell_type": "code",
      "metadata": {
        "id": "vqjWwshFCMGQ"
      },
      "source": [
        "best_first_search_code = open(\"best_first_search.cpp\", \"w\")\n",
        "best_first_search_code.write(best_first_search)\n",
        "best_first_search_code.close()\n"
      ],
      "execution_count": 9,
      "outputs": []
    },
    {
      "cell_type": "markdown",
      "metadata": {
        "id": "9IyLyqM4CxLa"
      },
      "source": [
        "## 2 Threads"
      ]
    },
    {
      "cell_type": "code",
      "metadata": {
        "colab": {
          "base_uri": "https://localhost:8080/"
        },
        "id": "e31GgdJpCzmk",
        "outputId": "9db63b3f-ec73-43f0-80eb-7a01c18563f2"
      },
      "source": [
        "!g++ -fopenmp best_first_search.cpp\n",
        "!./a.out"
      ],
      "execution_count": 10,
      "outputs": [
        {
          "output_type": "stream",
          "name": "stdout",
          "text": [
            "  3  4  5  2  6  0"
          ]
        }
      ]
    },
    {
      "cell_type": "code",
      "metadata": {
        "id": "xJhvvFlCC-p1"
      },
      "source": [
        ""
      ],
      "execution_count": 3,
      "outputs": []
    }
  ]
}