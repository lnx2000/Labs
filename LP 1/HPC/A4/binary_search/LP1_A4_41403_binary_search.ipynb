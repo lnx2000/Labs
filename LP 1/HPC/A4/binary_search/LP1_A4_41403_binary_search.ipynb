{
  "nbformat": 4,
  "nbformat_minor": 0,
  "metadata": {
    "colab": {
      "name": "HPC_4",
      "provenance": [],
      "collapsed_sections": []
    },
    "kernelspec": {
      "name": "python3",
      "display_name": "Python 3"
    },
    "language_info": {
      "name": "python"
    }
  },
  "cells": [
    {
      "cell_type": "code",
      "metadata": {
        "id": "A-L5QA-WBvtX"
      },
      "source": [
        "binary_search = \"\"\"\n",
        "  #include<iostream>\n",
        "  #include<omp.h>\n",
        "  #include<time.h>\n",
        "\n",
        "  using namespace std;\n",
        "  \n",
        "  int c1[3];\n",
        "  int binary_search(int a[],int low,int high,int key){\n",
        "    int loc = -1;\n",
        "    int mid;\n",
        "    while(low<=high){\n",
        "      mid = (high + low )/2;\n",
        "      if (a[mid] == key) {\n",
        "        loc = mid;\n",
        "        break;\n",
        "      }\n",
        "      else {\n",
        "        #pragma omp parallel sections\n",
        "        {\n",
        "          #pragma omp section\n",
        "          {\n",
        "            if(a[mid]<key){\n",
        "              low = mid+1;\n",
        "            }\n",
        "          }\n",
        "          #pragma omp section\n",
        "          {\n",
        "            if(a[mid]>key){\n",
        "              high = mid-1;\n",
        "            }\n",
        "          }\n",
        "        }\n",
        "      }\n",
        "    }\n",
        "    return loc;\n",
        "  }\n",
        "\n",
        "  int main(){\n",
        "    int th = omp_get_max_threads();\n",
        "    cout<<\"Max Threads : \"<<th<<endl;\n",
        "    omp_set_num_threads(2);\n",
        "    c1[1]=0;\n",
        "    c1[2]=0;\n",
        "    int a[1000000];\n",
        "    clock_t t1,t2;\n",
        "    int key = 0;\n",
        "    int loc,i;\n",
        "    for (int i = 0; i < 1000000; i++) {\n",
        "      a[i] = i;\n",
        "    }\n",
        "    key = 1000;\n",
        "    t1 = clock();\n",
        "    loc = binary_search(a,0,1000000,key);\n",
        "    t2 = clock();\n",
        "    if (loc == -1) {\n",
        "      cout<<\"Not Found\";\n",
        "    } else {\n",
        "      cout<<\"Found at \"<<loc<<endl;\n",
        "      //cout<<\"By Thread \"<<omp_get_thread_num()<<endl;\n",
        "    }\n",
        "    return 0 ;\n",
        "  }\n",
        "\"\"\""
      ],
      "execution_count": 1,
      "outputs": []
    },
    {
      "cell_type": "code",
      "metadata": {
        "id": "vqjWwshFCMGQ"
      },
      "source": [
        "binary_search_code = open(\"binary_serach.cpp\", \"w\")\n",
        "binary_search_code.write(binary_search)\n",
        "binary_search_code.close()\n"
      ],
      "execution_count": 2,
      "outputs": []
    },
    {
      "cell_type": "markdown",
      "metadata": {
        "id": "9IyLyqM4CxLa"
      },
      "source": [
        "## 2 Threads"
      ]
    },
    {
      "cell_type": "code",
      "metadata": {
        "colab": {
          "base_uri": "https://localhost:8080/"
        },
        "id": "e31GgdJpCzmk",
        "outputId": "4f5c81e1-6ec7-47e4-e425-f3744df97f65"
      },
      "source": [
        "!g++ -fopenmp binary_serach.cpp\n",
        "!./a.out"
      ],
      "execution_count": 3,
      "outputs": [
        {
          "output_type": "stream",
          "name": "stdout",
          "text": [
            "Max Threads : 2\n",
            "Found at 1000\n"
          ]
        }
      ]
    },
    {
      "cell_type": "code",
      "metadata": {
        "id": "xJhvvFlCC-p1"
      },
      "source": [
        ""
      ],
      "execution_count": 3,
      "outputs": []
    }
  ]
}